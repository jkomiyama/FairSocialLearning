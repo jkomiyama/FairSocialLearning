{
  "nbformat": 4,
  "nbformat_minor": 0,
  "metadata": {
    "colab": {
      "name": "FairSocialLearning.ipynb",
      "provenance": [],
      "collapsed_sections": []
    },
    "kernelspec": {
      "name": "python3",
      "display_name": "Python 3"
    }
  },
  "cells": [
    {
      "cell_type": "markdown",
      "metadata": {
        "id": "x7IWOGlP25bm"
      },
      "source": [
        "## これは何？\n",
        "\n",
        "論文\n",
        "https://www.overleaf.com/project/5e8f7b5f2978e30001bb71b0\n",
        "のシミュレーションです"
      ]
    },
    {
      "cell_type": "code",
      "metadata": {
        "id": "hM2NCGHI2c9k"
      },
      "source": [
        "import numpy as np\n",
        "import matplotlib\n",
        "import matplotlib.pyplot as plt\n",
        "from scipy.spatial import distance #cosine similarity\n",
        "from scipy import stats\n",
        "import copy\n",
        "\n",
        "# model parameters\n",
        "mu_x = 3\n",
        "d = 1\n",
        "sigma_x = 2\n",
        "sigma_eps = sigma_x * np.sqrt(d)\n",
        "#sigma_eta = 1 \n",
        "lmd = 1 #lambda\n",
        "run_full = False\n",
        "save_img = True\n",
        "def is_colab():\n",
        "    try:\n",
        "        from google.colab import files\n",
        "        return True\n",
        "    except:\n",
        "        return False\n",
        "\n",
        "np.random.seed(1)\n",
        "if run_full or (not is_colab()): # Full run\n",
        "    R = 2000\n",
        "    N = 1000\n",
        "else: #short run (for debug: Only on google colab)\n",
        "    R = 10\n",
        "    N = 300\n",
        "\n",
        "# matplotlib params\n",
        "Alpha = 0.2\n",
        "Capsize = 10\n",
        "COLOR_UCB = \"tab:blue\"\n",
        "COLOR_CS_UCB = \"navy\"\n",
        "COLOR_HYBRID = \"tab:orange\"\n",
        "COLOR_CS_HYBRID = \"#cc4c0b\" \n",
        "COLOR_GREEDY = \"tab:red\"\n",
        "COLOR_ROONEY = \"tab:blue\"\n",
        "COLOR_ROONEY_SWITCH = \"tab:green\" \n",
        "COLOR_ROONEY_GREEDY = \"tab:red\"\n",
        "# linestyle\n",
        "linestyle_tuple = {\n",
        "     'loosely dotted':        (0, (1, 10)),\n",
        "     'dotted':                (0, (1, 1)),\n",
        "     'densely dotted':        (0, (1, 1)),\n",
        "\n",
        "     'loosely dashed':        (0, (5, 10)),\n",
        "     'dashed':                (0, (5, 5)),\n",
        "     'densely dashed':        (0, (5, 1)),\n",
        "\n",
        "     'loosely dashdotted':    (0, (3, 10, 1, 10)),\n",
        "     'dashdotted':            (0, (3, 5, 1, 5)),\n",
        "     'densely dashdotted':    (0, (3, 1, 1, 1)),\n",
        "\n",
        "     'dashdotdotted':         (0, (3, 5, 1, 5, 1, 5)),\n",
        "     'loosely dashdotdotted': (0, (3, 10, 1, 10, 1, 10)),\n",
        "     'densely dashdotdotted': (0, (3, 1, 1, 1, 1, 1))\n",
        "     }\n",
        "LINESTYLE_UCB = \"solid\"\n",
        "LINESTYLE_CS_UCB = linestyle_tuple[\"densely dashed\"]\n",
        "LINESTYLE_HYBRID = \"dashdot\"\n",
        "LINESTYLE_CS_HYBRID = \"dashed\"\n",
        "LINESTYLE_GREEDY = linestyle_tuple[\"densely dotted\"]\n",
        "LINESTYLE_CS_GREEDY = \"dotted\"\n",
        "LINESTYLE_ROONEY = \"dashdot\"\n",
        "LINESTYLE_ROONEY_SWITCH = linestyle_tuple[\"densely dashdotted\"]\n",
        "LINESTYLE_ROONEY_GREEDY = linestyle_tuple[\"densely dotted\"]\n",
        "\n",
        "Figsize = (6,4)\n",
        "#Fontsize = 18 \n",
        "plt.rcParams[\"font.size\"] = 14\n",
        "plt.rcParams[\"axes.linewidth\"] = 1\n",
        "plt.rcParams[\"lines.linewidth\"] = 2\n",
        "plt.rcParams[\"figure.subplot.bottom\"] = 0.14\n",
        "\n",
        "class Simulation:\n",
        "    def __init__(self, Kg, N0, N=N, theta_pars = None, sigma_eta = 1, policy = \"greedy\", count_ws_regret = False, n_switch = -1):\n",
        "        #print(f\"N={N}\")\n",
        "        self.Kg = Kg\n",
        "        self.N0 = N0\n",
        "        self.N = N\n",
        "        self.Ng = len(self.Kg) # Num of groups.\n",
        "        self.K = np.sum(self.Kg)\n",
        "        self.initial_order = np.random.permutation(range(self.K)) #initial sample order (shuffled)\n",
        "        if theta_pars == None:\n",
        "            self.thetas = [1 * np.ones(d) for g in range(self.Ng)] # theta = (1,1,..) \n",
        "        else:\n",
        "            self.thetas = [theta_pars[g] * np.ones(d) for g in range(self.Ng)]\n",
        "        #print(f\"thetas = {self.thetas}\")\n",
        "        G_tmp = []\n",
        "        #print(f\"self.Kg = {self.Kg}\")\n",
        "        for g,ng in enumerate(self.Kg):\n",
        "            for i in range(ng):\n",
        "                G_tmp.append(g)\n",
        "        self.gs = np.array(G_tmp) #group attribution\n",
        "        #print(f\"g = {self.gs}\")\n",
        "        self.policy = policy\n",
        "        self.count_ws_regret = count_ws_regret\n",
        "        self.n_switch = n_switch\n",
        "        self.Vs = [lmd * np.identity(d) for g in range(self.Ng)]\n",
        "        self.xys = [np.zeros(d) for g in range(self.Ng)]\n",
        "        self.regret = 0 #total regret\n",
        "        self.strong_regret = 0 #Unconstrained regret in the paper\n",
        "        self.draws = np.zeros(self.Ng) # num of draws of each group\n",
        "        self.subsidy = 0 #total subsidy\n",
        "        self.regret_seq = np.zeros(self.N)\n",
        "        self.strong_regret_seq = np.zeros(self.N)\n",
        "        self.subsidycs = 0 #total subsidy (cost-saving scheme)\n",
        "        self.draws_seq = np.zeros((self.N, self.Ng))\n",
        "        self.subsidy_seq = np.zeros(self.N)\n",
        "        self.subsidycs_seq = np.zeros(self.N)\n",
        "        self.sigma_eta = sigma_eta\n",
        "        self.n = 0\n",
        "    def draw_x(self, g): \n",
        "        return np.array([mu_x + sigma_x * np.random.normal() for f in range(d)])\n",
        "    def get_htheta(self, g): # hat{theta} = Vg^-1 xy\n",
        "        return np.linalg.solve(self.Vs[g], self.xys[g])\n",
        "    def get_ttheta(self, x, g, htheta): # UCB index\n",
        "        alpha = 1 /np.sqrt(d) #scale param\n",
        "        delta = 0.1\n",
        "        V = self.Vs[g]\n",
        "        w,P = np.linalg.eig(V)\n",
        "        s = np.sum(np.log(w)) - d * np.log(lmd) + 2 * np.log(1./delta)  \n",
        "        width = sigma_eps * alpha * np.sqrt(s) #confidence diwth\n",
        "        P_inv = np.linalg.inv(P) \n",
        "        D = P_inv @ V @ P\n",
        "        #print(f'UCB V = {V}, P = {P}, P_inv = {P_inv}, D = {D}')\n",
        "        xd = P_inv @ x\n",
        "        normalized_xd = np.array([xd[f] / np.sqrt(D[f,f]) for f in range(d)]) \n",
        "        #print(f\"normalized_xd = {normalized_xd}\")\n",
        "        my_norm = np.sqrt(np.inner(normalized_xd, D @ normalized_xd))\n",
        "        xd_ex = normalized_xd * (width / my_norm)\n",
        "        xd_ex_rec = P @ xd_ex \n",
        "        return xd_ex_rec + htheta\n",
        "    def get_bestarm(self, xs): #best arm\n",
        "        istar = np.argmax([self.get_q(x,i) for i,x in enumerate(xs)])\n",
        "        return istar\n",
        "    def select_arm(self, xs):\n",
        "        if self.n == self.N0:\n",
        "            for g in range(self.Ng):\n",
        "                #print(f\"n={self.n}, g={g}, htheta={self.get_htheta(g)}, draw[{g}]={self.draws[g]}\")\n",
        "                pass\n",
        "        if self.n < self.N0: # initial samples\n",
        "            vs_htheta = np.zeros(len(xs))\n",
        "            vs_htheta_group = np.zeros(len(xs)) #not used\n",
        "            iota = self.initial_order[ self.n % self.K ]\n",
        "            g_iota = self.gs[iota] #group of iota\n",
        "            for i,x in enumerate(xs):\n",
        "                g = self.gs[i]\n",
        "                htheta = self.get_htheta(g)\n",
        "                vs_htheta[i] = np.inner(x, htheta)\n",
        "                if g == g_iota:\n",
        "                    vs_htheta_group[i] = np.inner(x, htheta)\n",
        "                else:\n",
        "                    vs_htheta_group[i] = - 10000000\n",
        "            self.subsidycs_seq[self.n] = self.subsidycs\n",
        "            if self.count_ws_regret:\n",
        "                istar = np.argmax(vs_htheta) #best arm\n",
        "                self.subsidycs += vs_htheta[istar] - vs_htheta[iota]\n",
        "            self.subsidycs_seq[self.n] = self.subsidycs\n",
        "            return iota\n",
        "        elif self.policy == \"greedy\": #LF\n",
        "            vs = np.zeros(len(xs))\n",
        "            for i,x in enumerate(xs):\n",
        "                g = self.gs[i]\n",
        "                htheta = self.get_htheta(g)\n",
        "                vs[i] = np.inner(x, htheta)\n",
        "            self.subsidycs_seq[self.n] = self.subsidycs\n",
        "            return np.argmax(vs)\n",
        "        elif self.policy == \"ucb\" or self.policy == \"improved_ucb\": #imporoved ucb = hybrid in the paper\n",
        "            vs = np.zeros(len(xs))\n",
        "            vs_htheta = np.zeros(len(xs))\n",
        "            for i,x in enumerate(xs):\n",
        "                g = self.gs[i]\n",
        "                htheta = self.get_htheta(g)\n",
        "                ttheta = self.get_ttheta(x, g, htheta)\n",
        "                vs_htheta[i] = np.inner(x, htheta)\n",
        "                if self.policy == \"ucb\":\n",
        "                    vs[i] = np.inner(x, ttheta)\n",
        "                else: # iucb (hybrid)\n",
        "                    Delta = np.inner(x, ttheta - htheta)\n",
        "                    if Delta <= sigma_x * np.linalg.norm(htheta): \n",
        "                        vs[i] = np.inner(x, htheta) #no subsidize\n",
        "                    else:\n",
        "                        vs[i] = np.inner(x, ttheta) #subsidize\n",
        "            istar = np.argmax(vs) # best arm\n",
        "            self.subsidy += vs[istar] - vs_htheta[istar]\n",
        "            self.subsidycs += np.max(vs_htheta) - vs_htheta[istar]\n",
        "            self.subsidy_seq[self.n] = self.subsidy\n",
        "            self.subsidycs_seq[self.n] = self.subsidycs\n",
        "            return istar\n",
        "        elif self.policy == \"rooney\": # and (self.n % 10) == 0:\n",
        "            # first stage\n",
        "            vs = np.zeros(len(xs))\n",
        "            vs_true = np.zeros(len(xs))\n",
        "            for i,x in enumerate(xs):\n",
        "                g = self.gs[i]\n",
        "                htheta = self.get_htheta(g)\n",
        "                vs[i] = np.inner(x, htheta)\n",
        "                vs_true[i] = np.inner(x, self.thetas[g])\n",
        "#            print(f\"vs = {vs}\")\n",
        "#            print(f\"true vs = {vs_true}\")\n",
        "            i_gs = np.array([-1 for g in range(self.Ng)]) #finalist for each group\n",
        "            for g in range(self.Ng):\n",
        "                vs_filt = np.zeros(len(xs))\n",
        "                for i,x in enumerate(xs):\n",
        "                    if g == self.gs[i]:\n",
        "                        vs_filt[i] = vs[i]\n",
        "                    else:\n",
        "                        vs_filt[i] = -10000000\n",
        "                i_gs[g] = np.argmax(vs_filt)\n",
        "#            print(f\"finalists = {i_gs}\")\n",
        "            # second stage \n",
        "#            self.i_gs = i_gs\n",
        "            self.etas = np.array([self.sigma_eta * np.random.normal() for i in xs]) #2nd stage information (additional signals)\n",
        "            finalist_vs = np.array([vs[i] + self.etas[i] for i in i_gs])\n",
        "            g = np.argmax(finalist_vs)\n",
        "#            print(f\"self.etas = {self.etas}\")\n",
        "#            print(f\"finalist_vs = {finalist_vs}\")\n",
        "#            print(f\"selected = {i_gs[g]}\")\n",
        "#            print(f\"get_qs = {[self.get_q(x,i) for i,x in enumerate(xs)]}\")\n",
        "            return i_gs[g]\n",
        "        elif self.policy in [\"rooney\", \"rooney_greedy\"]: #rooney-greedy = LF (2-stage)\n",
        "            # first stage\n",
        "            vs = np.zeros(len(xs))\n",
        "            vs_true = np.zeros(len(xs))\n",
        "            for i,x in enumerate(xs):\n",
        "                g = self.gs[i]\n",
        "                htheta = self.get_htheta(g)\n",
        "                vs[i] = np.inner(x, htheta)\n",
        "                vs_true[i] = np.inner(x, self.thetas[g])\n",
        "            #print(f\"vs = {vs}\")\n",
        "            #print(f\"true vs = {vs_true}\")\n",
        "            i_gs = np.array([-1 for g in range(self.Ng)]) \n",
        "            vs_filt = copy.deepcopy(vs)\n",
        "            for g in range(self.Ng):\n",
        "                i_gs[g] = np.argmax(vs_filt)\n",
        "                vs_filt[ i_gs[g] ] = -10000000\n",
        "            self.etas = np.array([self.sigma_eta * np.random.normal() for i in xs]) #addiional signal eta\n",
        "            finalist_vs = np.array([vs[i] + self.etas[i] for i in i_gs])\n",
        "            finalist_vs_true = np.array([vs_true[i] + self.etas[i] for i in i_gs])\n",
        "            g = np.argmax(finalist_vs)\n",
        "#            true_g = np.argmax(finalist_vs_true)\n",
        "#            if g != true_g:\n",
        "#                print(f\"g = {g}, true_best = {true_g}\")\n",
        "            return i_gs[g]\n",
        "        else:\n",
        "            print(\"Unknown policy\");assert(False)\n",
        "    def get_q(self, x, i):\n",
        "        g = self.gs[i]\n",
        "        theta_g = self.thetas[g]\n",
        "        if not self.policy in [\"rooney\", \"rooney_greedy\"] or self.n < self.N0:\n",
        "            return np.inner(x, theta_g)\n",
        "        else:\n",
        "            return np.inner(x, theta_g) + self.etas[i]\n",
        "    def get_reward(self, x, i):\n",
        "        eps = sigma_eps * np.random.normal()\n",
        "        return self.get_q(x, i) + eps\n",
        "    def calculate_rooney_best(self, xs): \n",
        "        # calc Rooney Regret\n",
        "        qs_base = [np.inner(x, self.thetas[self.gs[i]]) for i,x in enumerate(xs)]\n",
        "        i_gs = np.array([-1 for g in range(self.Ng)]) \n",
        "        for g in range(self.Ng):\n",
        "            qs_filt = np.zeros(len(xs))\n",
        "            for i,x in enumerate(xs):\n",
        "                if g == self.gs[i]:\n",
        "                    qs_filt[i] = qs_base[i]\n",
        "                else:\n",
        "                    qs_filt[i] = -10000000\n",
        "            i_gs[g] = np.argmax(qs_filt)\n",
        "        finalist_qs = np.array([qs_base[i] + self.etas[i] for i in i_gs])\n",
        "        rooney_best_q = np.max(finalist_qs)\n",
        "        # greedyでG人とったとき\n",
        "        qs_filt = copy.deepcopy(qs_base)\n",
        "        i_gs = np.array([-1 for g in range(self.Ng)])\n",
        "        for g in range(self.Ng):\n",
        "            i_gs[g] = np.argmax(qs_filt)\n",
        "            qs_filt[ i_gs[g] ] = -10000000\n",
        "        finalist_qs = np.array([qs_base[i] + self.etas[i] for i in i_gs])\n",
        "        omni_best_q = np.max(finalist_qs)\n",
        "#        if rooney_best_q != omni_best_q:\n",
        "#            print(\"two regret did not match\")\n",
        "        return (rooney_best_q, omni_best_q) \n",
        "    def update_reward(self, xs, y, i, g):\n",
        "        x = xs[i]\n",
        "        xx = np.outer(x, x)\n",
        "        xy = x*y\n",
        "        self.Vs[g] += xx\n",
        "        self.xys[g] += xy\n",
        "        # regret更新\n",
        "        if self.n >= self.N0 or self.count_ws_regret:\n",
        "            if not self.policy in [\"rooney\", \"rooney_greedy\"]:\n",
        "                istar = self.get_bestarm(xs)\n",
        "                self.regret += self.get_q(xs[istar], istar) - self.get_q(xs[i], i)\n",
        "#                print(f\"istar = {istar} regret = {self.get_q(xs[istar], istar) - self.get_q(xs[i], i)}\")\n",
        "            else: #rooney\n",
        "                rooney_best_q, omni_best_q = self.calculate_rooney_best(xs)\n",
        "                #if self.policy == \"rooney_greedy\":\n",
        "                #    print(omni_best_q - self.get_q(xs[i], i))\n",
        "                self.regret += rooney_best_q - self.get_q(xs[i], i)\n",
        "                self.strong_regret += omni_best_q - self.get_q(xs[i], i)\n",
        "        self.draws[g] += 1\n",
        "        self.regret_seq[self.n] = self.regret\n",
        "        if self.policy in [\"rooney\", \"rooney_greedy\"]:\n",
        "            self.strong_regret_seq[self.n] = self.strong_regret\n",
        "        self.draws_seq[self.n] = self.draws\n",
        "        self.n = self.n + 1\n",
        "        self.eta = None\n",
        "    def is_perpetunderest(self):\n",
        "        #self.perpunderestimate = True\n",
        "        for g in range(self.Ng):\n",
        "            if self.draws[g] == self.draws_seq[self.N0, g]: \n",
        "                return True \n",
        "        return False\n",
        "    def round(self):\n",
        "        # draw context\n",
        "        xs = [self.draw_x(self.gs[i]) for i in range(self.K)]\n",
        "        # select arm\n",
        "        iota = self.select_arm(xs)\n",
        "        # observe reward\n",
        "        x = xs[iota]\n",
        "        y = self.get_reward(x, iota)\n",
        "        # update model parameters\n",
        "        self.update_reward(xs, y, iota, self.gs[iota])\n",
        "    def run(self):\n",
        "        for n in range(self.N):\n",
        "            if self.n_switch == self.n and self.policy == \"rooney\": #if n_switch is set then turns to greedy (LF) at some timestep\n",
        "                self.policy = \"rooney_greedy\" \n",
        "            self.round()\n",
        "\n",
        "def my_show():\n",
        "    try:\n",
        "        from google.colab import files\n",
        "        plt.show()\n",
        "    except:\n",
        "        pass\n",
        "\n",
        "def colab_save(filename):\n",
        "    try:\n",
        "        from google.colab import files\n",
        "        files.download(filename)  \n",
        "    except:\n",
        "        pass\n",
        "\n",
        "# parallel computation\n",
        "def run_sim(sim):\n",
        "    sim.run()\n",
        "    return sim\n",
        "from joblib import Parallel, delayed"
      ],
      "execution_count": null,
      "outputs": []
    },
    {
      "cell_type": "code",
      "metadata": {
        "id": "4HA_RyoHJgx2",
        "outputId": "b8a8a31d-4311-4e84-c7f5-15bd5f365863",
        "colab": {
          "base_uri": "https://localhost:8080/",
          "height": 943
        }
      },
      "source": [
        "# 実験（2stage Rooney versus LF)\n",
        "def experiment7():\n",
        "    #sigma_etas = np.sqrt(d) * np.array([0, 0.2, 0.4, 0.6, 0.8]) \n",
        "    sigma_eta = np.sqrt(d) * 1.2\n",
        "    pu_count, pu_count_switch, pu_count_greedy = 0, 0, 0 \n",
        "    all_regret = np.zeros((R, N))\n",
        "    all_strong_regret = np.zeros((R, N))\n",
        "    all_regret_switch = np.zeros((R, N))\n",
        "    all_strong_regret_switch = np.zeros((R, N))\n",
        "    all_regret_greedy = np.zeros((R, N))\n",
        "    all_strong_regret_greedy = np.zeros((R, N))\n",
        "    all_draw2 = np.zeros((R, N))\n",
        "    all_draw2_switch = np.zeros((R, N))\n",
        "    all_draw2_greedy = np.zeros((R, N))\n",
        "    k_list = (10, 2)\n",
        "    sims = [Simulation(Kg = k_list, N0 = np.sum(k_list)*1, sigma_eta = sigma_eta, policy = \"rooney\") for r in range(R)] \n",
        "    sims = Parallel(n_jobs=-1)( [delayed(run_sim)(sims[r]) for r in range(R)] ) #parallel computation\n",
        "    sims_switch = [Simulation(Kg = k_list, N0 = np.sum(k_list)*1, sigma_eta = sigma_eta, policy = \"rooney\", n_switch = 50) for r in range(R)] \n",
        "    sims_switch = Parallel(n_jobs=-1)( [delayed(run_sim)(sims_switch[r]) for r in range(R)] ) #parallel computation\n",
        "    sims_greedy = [Simulation(Kg = k_list, N0 = np.sum(k_list)*1, sigma_eta = sigma_eta, policy = \"rooney_greedy\") for r in range(R)]\n",
        "    sims_greedy = Parallel(n_jobs=-1)( [delayed(run_sim)(sims_greedy[r]) for r in range(R)] ) #parallel computation\n",
        "    print(f\"sigma_eta = {sigma_eta}, k_list = {k_list}\")\n",
        "    for r in range(R):\n",
        "        #print(f\"r={r}\")\n",
        "        if sims[r].is_perpetunderest():\n",
        "            pu_count += 1\n",
        "        if sims_switch[r].is_perpetunderest():\n",
        "            pu_count_switch += 1\n",
        "        if sims_greedy[r].is_perpetunderest():\n",
        "            pu_count_greedy += 1\n",
        "        all_regret[r,:] = sims[r].regret_seq\n",
        "        all_strong_regret[r,:] = sims[r].strong_regret_seq\n",
        "        all_draw2[r,:] = sims[r].draws_seq[:,1]\n",
        "        all_regret_switch[r,:] = sims_switch[r].regret_seq\n",
        "        all_strong_regret_switch[r,:] = sims_switch[r].strong_regret_seq\n",
        "        all_draw2_switch[r,:] = sims_switch[r].draws_seq[:,1]\n",
        "        all_regret_greedy[r,:] = sims_greedy[r].regret_seq\n",
        "        all_strong_regret_greedy[r,:] = sims_greedy[r].strong_regret_seq\n",
        "        all_draw2_greedy[r,:] = sims_greedy[r].draws_seq[:,1]\n",
        "    print(f\"pu_count, pu_count_switch, pu_count_greedy = {pu_count}, {pu_count_switch}, {pu_count_greedy}\")\n",
        "\n",
        "    fig = plt.figure(figsize=Figsize)\n",
        "    #plt.plot(range(N), avg_draw2, label = \"LF\")\n",
        "    #plt.bar(range(len(sigma_etas)), avg_regret, tick_label=labels, align=\"center\")\n",
        "    avg_regret = np.mean(all_regret, axis=0)\n",
        "    std_regret = np.std(all_regret, axis=0)\n",
        "    avg_regret_switch = np.mean(all_regret_switch, axis=0)\n",
        "    std_regret_switch = np.std(all_regret_switch, axis=0)\n",
        "    avg_regret_greedy = np.mean(all_regret_greedy, axis=0)\n",
        "    std_regret_greedy = np.std(all_regret_greedy, axis=0)\n",
        "    avg_strong_regret = np.mean(all_strong_regret, axis=0)\n",
        "    std_strong_regret = np.std(all_strong_regret, axis=0)\n",
        "    avg_strong_regret_switch = np.mean(all_strong_regret_switch, axis=0)\n",
        "    std_strong_regret_switch = np.std(all_strong_regret_switch, axis=0)\n",
        "    avg_strong_regret_greedy = np.mean(all_strong_regret_greedy, axis=0)\n",
        "    std_strong_regret_greedy = np.std(all_strong_regret_greedy, axis=0)\n",
        "    #plt.plot(range(N), avg_regret, label = \"sigma_eta = \"+str(sigma_eta))\n",
        "\n",
        "    lower_quantile_regret = np.quantile(all_regret, 0.05, axis=0)\n",
        "    upper_quantile_regret = np.quantile(all_regret, 0.95, axis=0)\n",
        "    plt.plot(range(N), avg_regret, label = \"Rooney\", color = COLOR_ROONEY, linestyle = LINESTYLE_ROONEY) #\n",
        "    plt.errorbar([N-1], avg_regret[-1], yerr=2*std_regret[-1]/np.sqrt(R), fmt='o', capsize = Capsize, color = COLOR_ROONEY) #2 sigma\n",
        "    plt.fill_between(range(N), lower_quantile_regret, upper_quantile_regret, alpha=0.3, color = COLOR_ROONEY) \n",
        "    plt.ylabel(\"Regret\")\n",
        "#    plt.xlabel(\"sigma_eta\")\n",
        "    plt.xlabel(\"Round n\")\n",
        "    plt.legend()\n",
        "    \n",
        "    my_show()\n",
        "    if save_img:\n",
        "        fig.savefig('rooney_largeg2_regret.pdf', dpi=fig.dpi)\n",
        "        colab_save('rooney_largeg2_regret.pdf')\n",
        "    plt.clf()\n",
        "    \n",
        "    fig = plt.figure(figsize=Figsize)\n",
        "\n",
        "    lower_quantile_strong_regret = np.quantile(all_strong_regret, 0.05, axis=0)\n",
        "    upper_quantile_strong_regret = np.quantile(all_strong_regret, 0.95, axis=0)\n",
        "    plt.plot(range(N), avg_strong_regret, label = \"Rooney\", color = COLOR_ROONEY, linestyle = LINESTYLE_ROONEY)\n",
        "    plt.errorbar([N-1], avg_strong_regret[-1], yerr=2*std_strong_regret[-1]/np.sqrt(R), fmt='o', capsize = Capsize, color = COLOR_ROONEY) #2 sigma\n",
        "    plt.fill_between(range(N), lower_quantile_strong_regret, upper_quantile_strong_regret, alpha=0.3, color = COLOR_ROONEY)\n",
        "\n",
        "    lower_quantile_strong_regret_switch = np.quantile(all_strong_regret_switch, 0.05, axis=0)\n",
        "    upper_quantile_strong_regret_switch = np.quantile(all_strong_regret_switch, 0.95, axis=0)\n",
        "    plt.plot(range(N), avg_strong_regret_switch, label = \"Rooney-LF\", color = COLOR_ROONEY_SWITCH, linestyle = LINESTYLE_ROONEY_SWITCH)\n",
        "    plt.errorbar([N-1], avg_strong_regret_switch[-1], yerr=2*std_strong_regret_switch[-1]/np.sqrt(R), fmt='o', capsize = Capsize, color = COLOR_ROONEY_SWITCH) #2 sigma\n",
        "    plt.fill_between(range(N), lower_quantile_strong_regret_switch, upper_quantile_strong_regret_switch, alpha=0.3, color = COLOR_ROONEY_SWITCH)\n",
        "\n",
        "    lower_quantile_strong_regret_greedy = np.quantile(all_strong_regret_greedy, 0.05, axis=0)\n",
        "    upper_quantile_strong_regret_greedy = np.quantile(all_strong_regret_greedy, 0.95, axis=0)\n",
        "    plt.plot(range(N), avg_strong_regret_greedy, label = \"LF\", color= COLOR_ROONEY_GREEDY, linestyle = LINESTYLE_ROONEY_GREEDY)\n",
        "    plt.errorbar([N-1], avg_strong_regret_greedy[-1], yerr=2*std_strong_regret_greedy[-1]/np.sqrt(R), fmt='o', capsize = Capsize, color = COLOR_ROONEY_GREEDY) #2 sigma\n",
        "    plt.fill_between(range(N), lower_quantile_strong_regret_greedy, upper_quantile_strong_regret_greedy, alpha=0.3, color = COLOR_ROONEY_GREEDY)\n",
        "\n",
        "    plt.ylim((0,avg_strong_regret_greedy[-1]*2))\n",
        "    plt.ylabel(\"Regret (No Restriction)\")\n",
        "#    plt.xlabel(\"sigma_eta\")\n",
        "    plt.xlabel(\"Round n\")\n",
        "    plt.legend()\n",
        "    my_show()\n",
        "    if save_img:\n",
        "        fig.savefig('rooney_largeg2_strong_regret.pdf', dpi=fig.dpi)\n",
        "        colab_save('rooney_largeg2_strong_regret.pdf')\n",
        "    plt.clf()\n",
        "\n",
        "    fig = plt.figure(figsize=Figsize)\n",
        "    #plt.plot(range(N), avg_draw2, label = \"LF\")\n",
        "    avg_draw2 = np.mean(all_draw2, axis=0)\n",
        "    std_draw2 = np.std(all_draw2, axis=0)\n",
        "    lower_quantile_draw2 = np.quantile(all_draw2, 0.05, axis=0)\n",
        "    upper_quantile_draw2 = np.quantile(all_draw2, 0.95, axis=0)\n",
        "    avg_draw2_switch = np.mean(all_draw2_switch, axis=0)\n",
        "    std_draw2_switch = np.std(all_draw2_switch, axis=0)\n",
        "    lower_quantile_draw2_switch = np.quantile(all_draw2_switch, 0.05, axis=0)\n",
        "    upper_quantile_draw2_switch = np.quantile(all_draw2_switch, 0.95, axis=0)\n",
        "    avg_draw2_greedy = np.mean(all_draw2_greedy, axis=0)\n",
        "    std_draw2_greedy = np.std(all_draw2_greedy, axis=0)\n",
        "    lower_quantile_draw2_greedy = np.quantile(all_draw2_greedy, 0.05, axis=0)\n",
        "    upper_quantile_draw2_greedy = np.quantile(all_draw2_greedy, 0.95, axis=0)\n",
        "    plt.plot(range(N), avg_draw2, label = \"Rooney\", color = COLOR_ROONEY, linestyle = LINESTYLE_ROONEY)\n",
        "    plt.errorbar([N-1], avg_draw2[-1], yerr=2*std_draw2[-1]/np.sqrt(R), fmt='o', capsize = Capsize, color = COLOR_ROONEY) #2 sigma\n",
        "    plt.fill_between(range(N), lower_quantile_draw2, upper_quantile_draw2, alpha=0.3, color = COLOR_ROONEY)\n",
        "    plt.plot(range(N), avg_draw2_switch, label = \"Rooney-LF\", color = COLOR_ROONEY_SWITCH, linestyle = LINESTYLE_ROONEY_SWITCH)\n",
        "    plt.errorbar([N-1], avg_draw2_switch[-1], yerr=2*std_draw2_switch[-1]/np.sqrt(R), fmt='o', capsize = Capsize, color = COLOR_ROONEY_SWITCH) #2 sigma\n",
        "    plt.fill_between(range(N), lower_quantile_draw2_switch, upper_quantile_draw2_switch, alpha=0.3, color = COLOR_ROONEY_SWITCH)\n",
        "    plt.plot(range(N), avg_draw2_greedy, label = \"LF\", color= COLOR_ROONEY_GREEDY, linestyle = LINESTYLE_ROONEY_GREEDY)\n",
        "    plt.errorbar([N-1], avg_draw2_greedy[-1], yerr=2*std_draw2_greedy[-1]/np.sqrt(R), fmt='o', capsize = Capsize, color = COLOR_ROONEY_GREEDY) #2 sigma\n",
        "    plt.fill_between(range(N), lower_quantile_draw2_greedy, upper_quantile_draw2_greedy, alpha=0.3, color = COLOR_ROONEY_GREEDY)\n",
        "    plt.plot(range(N), [i*k_list[1]/np.sum(k_list) for i in range(N)], label = \"Optimal\", color = \"black\", linestyle=linestyle_tuple[\"loosely dashed\"])\n",
        "    plt.ylabel(\"# of minorities hired\")\n",
        "    plt.xlabel(\"Round n\")\n",
        "    plt.legend()\n",
        "    my_show()\n",
        "    if save_img:\n",
        "        fig.savefig('rooney_largeg2_draw2.pdf', dpi=fig.dpi)\n",
        "        colab_save('rooney_largeg2_draw2.pdf')\n",
        "    plt.clf()\n",
        "\n",
        "experiment7()"
      ],
      "execution_count": null,
      "outputs": [
        {
          "output_type": "stream",
          "text": [
            "sigma_eta = 1.2, k_list = (10, 2)\n",
            "pu_count, pu_count_switch, pu_count_greedy = 0, 2, 1\n"
          ],
          "name": "stdout"
        },
        {
          "output_type": "display_data",
          "data": {
            "image/png": "[encoded data removed]",
            "text/plain": [
              "<Figure size 432x288 with 1 Axes>"
            ]
          },
          "metadata": {
            "tags": [],
            "needs_background": "light"
          }
        },
        {
          "output_type": "display_data",
          "data": {
            "application/javascript": [
              "\n",
              "    async function download(id, filename, size) {\n",
              "      if (!google.colab.kernel.accessAllowed) {\n",
              "        return;\n",
              "      }\n",
              "      const div = document.createElement('div');\n",
              "      const label = document.createElement('label');\n",
              "      label.textContent = `Downloading \"${filename}\": `;\n",
              "      div.appendChild(label);\n",
              "      const progress = document.createElement('progress');\n",
              "      progress.max = size;\n",
              "      div.appendChild(progress);\n",
              "      document.body.appendChild(div);\n",
              "\n",
              "      const buffers = [];\n",
              "      let downloaded = 0;\n",
              "\n",
              "      const channel = await google.colab.kernel.comms.open(id);\n",
              "      // Send a message to notify the kernel that we're ready.\n",
              "      channel.send({})\n",
              "\n",
              "      for await (const message of channel.messages) {\n",
              "        // Send a message to notify the kernel that we're ready.\n",
              "        channel.send({})\n",
              "        if (message.buffers) {\n",
              "          for (const buffer of message.buffers) {\n",
              "            buffers.push(buffer);\n",
              "            downloaded += buffer.byteLength;\n",
              "            progress.value = downloaded;\n",
              "          }\n",
              "        }\n",
              "      }\n",
              "      const blob = new Blob(buffers, {type: 'application/binary'});\n",
              "      const a = document.createElement('a');\n",
              "      a.href = window.URL.createObjectURL(blob);\n",
              "      a.download = filename;\n",
              "      div.appendChild(a);\n",
              "      a.click();\n",
              "      div.remove();\n",
              "    }\n",
              "  "
            ],
            "text/plain": [
              "<IPython.core.display.Javascript object>"
            ]
          },
          "metadata": {
            "tags": []
          }
        },
        {
          "output_type": "display_data",
          "data": {
            "application/javascript": [
              "download(\"download_00be3b33-91ab-4cd1-ad04-916f547092dd\", \"rooney_largeg2_regret.pdf\", 14746)"
            ],
            "text/plain": [
              "<IPython.core.display.Javascript object>"
            ]
          },
          "metadata": {
            "tags": []
          }
        },
        {
          "output_type": "display_data",
          "data": {
            "text/plain": [
              "<Figure size 432x288 with 0 Axes>"
            ]
          },
          "metadata": {
            "tags": []
          }
        },
        {
          "output_type": "display_data",
          "data": {
            "image/png": "[encoded data removed]",
            "text/plain": [
              "<Figure size 432x288 with 1 Axes>"
            ]
          },
          "metadata": {
            "tags": [],
            "needs_background": "light"
          }
        },
        {
          "output_type": "display_data",
          "data": {
            "application/javascript": [
              "\n",
              "    async function download(id, filename, size) {\n",
              "      if (!google.colab.kernel.accessAllowed) {\n",
              "        return;\n",
              "      }\n",
              "      const div = document.createElement('div');\n",
              "      const label = document.createElement('label');\n",
              "      label.textContent = `Downloading \"${filename}\": `;\n",
              "      div.appendChild(label);\n",
              "      const progress = document.createElement('progress');\n",
              "      progress.max = size;\n",
              "      div.appendChild(progress);\n",
              "      document.body.appendChild(div);\n",
              "\n",
              "      const buffers = [];\n",
              "      let downloaded = 0;\n",
              "\n",
              "      const channel = await google.colab.kernel.comms.open(id);\n",
              "      // Send a message to notify the kernel that we're ready.\n",
              "      channel.send({})\n",
              "\n",
              "      for await (const message of channel.messages) {\n",
              "        // Send a message to notify the kernel that we're ready.\n",
              "        channel.send({})\n",
              "        if (message.buffers) {\n",
              "          for (const buffer of message.buffers) {\n",
              "            buffers.push(buffer);\n",
              "            downloaded += buffer.byteLength;\n",
              "            progress.value = downloaded;\n",
              "          }\n",
              "        }\n",
              "      }\n",
              "      const blob = new Blob(buffers, {type: 'application/binary'});\n",
              "      const a = document.createElement('a');\n",
              "      a.href = window.URL.createObjectURL(blob);\n",
              "      a.download = filename;\n",
              "      div.appendChild(a);\n",
              "      a.click();\n",
              "      div.remove();\n",
              "    }\n",
              "  "
            ],
            "text/plain": [
              "<IPython.core.display.Javascript object>"
            ]
          },
          "metadata": {
            "tags": []
          }
        },
        {
          "output_type": "display_data",
          "data": {
            "application/javascript": [
              "download(\"download_e8df753f-2e24-45b9-8f87-c99b308a2fbc\", \"rooney_largeg2_strong_regret.pdf\", 26863)"
            ],
            "text/plain": [
              "<IPython.core.display.Javascript object>"
            ]
          },
          "metadata": {
            "tags": []
          }
        },
        {
          "output_type": "display_data",
          "data": {
            "text/plain": [
              "<Figure size 432x288 with 0 Axes>"
            ]
          },
          "metadata": {
            "tags": []
          }
        },
        {
          "output_type": "display_data",
          "data": {
            "image/png": "[encoded data removed]",
            "text/plain": [
              "<Figure size 432x288 with 1 Axes>"
            ]
          },
          "metadata": {
            "tags": [],
            "needs_background": "light"
          }
        },
        {
          "output_type": "display_data",
          "data": {
            "application/javascript": [
              "\n",
              "    async function download(id, filename, size) {\n",
              "      if (!google.colab.kernel.accessAllowed) {\n",
              "        return;\n",
              "      }\n",
              "      const div = document.createElement('div');\n",
              "      const label = document.createElement('label');\n",
              "      label.textContent = `Downloading \"${filename}\": `;\n",
              "      div.appendChild(label);\n",
              "      const progress = document.createElement('progress');\n",
              "      progress.max = size;\n",
              "      div.appendChild(progress);\n",
              "      document.body.appendChild(div);\n",
              "\n",
              "      const buffers = [];\n",
              "      let downloaded = 0;\n",
              "\n",
              "      const channel = await google.colab.kernel.comms.open(id);\n",
              "      // Send a message to notify the kernel that we're ready.\n",
              "      channel.send({})\n",
              "\n",
              "      for await (const message of channel.messages) {\n",
              "        // Send a message to notify the kernel that we're ready.\n",
              "        channel.send({})\n",
              "        if (message.buffers) {\n",
              "          for (const buffer of message.buffers) {\n",
              "            buffers.push(buffer);\n",
              "            downloaded += buffer.byteLength;\n",
              "            progress.value = downloaded;\n",
              "          }\n",
              "        }\n",
              "      }\n",
              "      const blob = new Blob(buffers, {type: 'application/binary'});\n",
              "      const a = document.createElement('a');\n",
              "      a.href = window.URL.createObjectURL(blob);\n",
              "      a.download = filename;\n",
              "      div.appendChild(a);\n",
              "      a.click();\n",
              "      div.remove();\n",
              "    }\n",
              "  "
            ],
            "text/plain": [
              "<IPython.core.display.Javascript object>"
            ]
          },
          "metadata": {
            "tags": []
          }
        },
        {
          "output_type": "display_data",
          "data": {
            "application/javascript": [
              "download(\"download_90d015fa-d866-4107-acb8-a2ddc8953f57\", \"rooney_largeg2_draw2.pdf\", 27083)"
            ],
            "text/plain": [
              "<IPython.core.display.Javascript object>"
            ]
          },
          "metadata": {
            "tags": []
          }
        },
        {
          "output_type": "display_data",
          "data": {
            "text/plain": [
              "<Figure size 432x288 with 0 Axes>"
            ]
          },
          "metadata": {
            "tags": []
          }
        }
      ]
    },
    {
      "cell_type": "code",
      "metadata": {
        "id": "sPx0LKzs-Wfa",
        "outputId": "0f976818-5ce6-4d3b-b871-f8d50505f832",
        "colab": {
          "base_uri": "https://localhost:8080/",
          "height": 611
        }
      },
      "source": [
        "# LF versus UCB\n",
        "def experiment2():\n",
        "    Kg = (10, 2)\n",
        "    sims = [Simulation(Kg = Kg, N0 = np.sum(Kg)*1, policy = \"greedy\") for r in range(R)]\n",
        "    sims_ucb = [Simulation(Kg = Kg, N0 = np.sum(Kg)*1, policy = \"ucb\") for r in range(R)]\n",
        "    sims = Parallel(n_jobs=-1)( [delayed(run_sim)(sims[r]) for r in range(R)] ) #parallel computation\n",
        "    sims_ucb = Parallel(n_jobs=-1)( [delayed(run_sim)(sims_ucb[r]) for r in range(R)] )\n",
        "#    for r in range(R):\n",
        "#        sims[r].run()\n",
        "#        print(f\"Greedy Run {r}: Perpetually underestimated {sims[r].is_perpetunderest()}\")\n",
        "#    for r in range(R):\n",
        "#        sims_ucb[r].run()\n",
        "#        print(f\"UCB Run {r}: Perpetually underestimated {sims_ucb[r].is_perpetunderest()}\")\n",
        "    all_regret = np.zeros( (R, N) )\n",
        "    all_regret_ucb = np.zeros( (R, N) )\n",
        "    all_draw2 = np.zeros( (R, N) )\n",
        "    all_draw2_ucb = np.zeros( (R, N) )\n",
        "    for r in range(R):\n",
        "        all_regret[r] = sims[r].regret_seq\n",
        "        all_regret_ucb[r] = sims_ucb[r].regret_seq\n",
        "        all_draw2[r] = sims[r].draws_seq[:,1]\n",
        "        all_draw2_ucb[r] = sims_ucb[r].draws_seq[:,1]\n",
        "\n",
        "    fig = plt.figure(figsize=Figsize)\n",
        "    avg_regret = np.mean(all_regret, axis=0)\n",
        "    std_regret = np.std(all_regret, axis=0)\n",
        "    lower_quantile_regret = np.quantile(all_regret, 0.05, axis=0)\n",
        "    upper_quantile_regret = np.quantile(all_regret, 0.95, axis=0)\n",
        "    avg_regret_ucb = np.mean(all_regret_ucb, axis=0)\n",
        "    std_regret_ucb = np.std(all_regret_ucb, axis=0)\n",
        "    lower_quantile_regret_ucb = np.quantile(all_regret_ucb, 0.05, axis=0)\n",
        "    upper_quantile_regret_ucb = np.quantile(all_regret_ucb, 0.95, axis=0)\n",
        "    plt.plot(range(N), avg_regret, label = \"LF\", color = COLOR_GREEDY, linestyle = LINESTYLE_GREEDY)\n",
        "    plt.errorbar([N-1], avg_regret[-1], yerr=2*std_regret[-1]/np.sqrt(R), fmt='o', capsize = Capsize, color = COLOR_GREEDY) #2 sigma\n",
        "    plt.fill_between(range(N), lower_quantile_regret, upper_quantile_regret, alpha=0.3, color = COLOR_GREEDY)\n",
        "    plt.plot(range(N), avg_regret_ucb, label = \"UCB\", color = COLOR_UCB, linestyle = LINESTYLE_UCB)\n",
        "    plt.errorbar([N-1], avg_regret_ucb[-1], yerr=2*std_regret_ucb[-1]/np.sqrt(R), fmt='o', capsize = Capsize, color = COLOR_UCB) #2 sigma\n",
        "    plt.fill_between(range(N), lower_quantile_regret_ucb, upper_quantile_regret_ucb, alpha=0.3, color = COLOR_UCB)\n",
        "    plt.ylabel(\"Regret\")\n",
        "    plt.xlabel(\"Round (n)\")\n",
        "    plt.legend()\n",
        "    if save_img:\n",
        "        fig.savefig('policycomp_regret.pdf', dpi=fig.dpi)\n",
        "        colab_save('policycomp_regret.pdf')\n",
        "    my_show()\n",
        "    plt.clf()\n",
        "\n",
        "    fig = plt.figure(figsize=Figsize)\n",
        "    avg_draw2 = np.mean(all_draw2, axis=0)\n",
        "    std_draw2 = np.std(all_draw2, axis=0)\n",
        "    lower_quantile_draw2 = np.quantile(all_draw2, 0.05, axis=0)\n",
        "    upper_quantile_draw2 = np.quantile(all_draw2, 0.95, axis=0)\n",
        "    plt.plot(range(N), avg_draw2, label = \"LF\", color = COLOR_GREEDY, linestyle = LINESTYLE_GREEDY)\n",
        "    plt.errorbar([N-1], avg_draw2[-1], yerr=2*std_draw2[-1]/np.sqrt(R), fmt='o', capsize = Capsize, color = COLOR_GREEDY) #2 sigma\n",
        "    plt.fill_between(range(N), lower_quantile_draw2, upper_quantile_draw2, alpha=0.3, color = COLOR_GREEDY)\n",
        "    avg_draw2_ucb = np.mean(all_draw2_ucb, axis=0)\n",
        "    std_draw2_ucb = np.std(all_draw2_ucb, axis=0)\n",
        "    lower_quantile_draw2_ucb = np.quantile(all_draw2_ucb, 0.05, axis=0)\n",
        "    upper_quantile_draw2_ucb = np.quantile(all_draw2_ucb, 0.95, axis=0)\n",
        "    plt.plot(range(N), avg_draw2_ucb, label = \"UCB\", color = COLOR_UCB, linestyle = LINESTYLE_UCB)\n",
        "    plt.errorbar([N-1], avg_draw2_ucb[-1], yerr=2*std_draw2_ucb[-1]/np.sqrt(R), fmt='o', capsize = Capsize, color = COLOR_UCB) #2 sigma\n",
        "    plt.fill_between(range(N), lower_quantile_draw2_ucb, upper_quantile_draw2_ucb, alpha=0.3, color = COLOR_UCB)\n",
        "    plt.plot(range(N), [i*Kg[1]/np.sum(Kg) for i in range(N)], label = \"Optimal\", color = \"black\", linestyle=linestyle_tuple[\"loosely dashed\"])\n",
        "    plt.ylabel(\"# of minorities hired\")\n",
        "    plt.xlabel(\"Round (n)\")\n",
        "    plt.legend()\n",
        "    my_show()\n",
        "    if save_img:\n",
        "        fig.savefig('policycomp_draw2.pdf', dpi=fig.dpi)\n",
        "        colab_save('policycomp_draw2.pdf')\n",
        "    plt.clf()\n",
        "\n",
        "experiment2()"
      ],
      "execution_count": null,
      "outputs": [
        {
          "output_type": "display_data",
          "data": {
            "application/javascript": [
              "\n",
              "    async function download(id, filename, size) {\n",
              "      if (!google.colab.kernel.accessAllowed) {\n",
              "        return;\n",
              "      }\n",
              "      const div = document.createElement('div');\n",
              "      const label = document.createElement('label');\n",
              "      label.textContent = `Downloading \"${filename}\": `;\n",
              "      div.appendChild(label);\n",
              "      const progress = document.createElement('progress');\n",
              "      progress.max = size;\n",
              "      div.appendChild(progress);\n",
              "      document.body.appendChild(div);\n",
              "\n",
              "      const buffers = [];\n",
              "      let downloaded = 0;\n",
              "\n",
              "      const channel = await google.colab.kernel.comms.open(id);\n",
              "      // Send a message to notify the kernel that we're ready.\n",
              "      channel.send({})\n",
              "\n",
              "      for await (const message of channel.messages) {\n",
              "        // Send a message to notify the kernel that we're ready.\n",
              "        channel.send({})\n",
              "        if (message.buffers) {\n",
              "          for (const buffer of message.buffers) {\n",
              "            buffers.push(buffer);\n",
              "            downloaded += buffer.byteLength;\n",
              "            progress.value = downloaded;\n",
              "          }\n",
              "        }\n",
              "      }\n",
              "      const blob = new Blob(buffers, {type: 'application/binary'});\n",
              "      const a = document.createElement('a');\n",
              "      a.href = window.URL.createObjectURL(blob);\n",
              "      a.download = filename;\n",
              "      div.appendChild(a);\n",
              "      a.click();\n",
              "      div.remove();\n",
              "    }\n",
              "  "
            ],
            "text/plain": [
              "<IPython.core.display.Javascript object>"
            ]
          },
          "metadata": {
            "tags": []
          }
        },
        {
          "output_type": "display_data",
          "data": {
            "application/javascript": [
              "download(\"download_bccde5fe-b239-4d67-aeeb-2cb3f89fb2e2\", \"policycomp_regret.pdf\", 19217)"
            ],
            "text/plain": [
              "<IPython.core.display.Javascript object>"
            ]
          },
          "metadata": {
            "tags": []
          }
        },
        {
          "output_type": "display_data",
          "data": {
            "image/png": "[encoded data removed]",
            "text/plain": [
              "<Figure size 432x288 with 1 Axes>"
            ]
          },
          "metadata": {
            "tags": [],
            "needs_background": "light"
          }
        },
        {
          "output_type": "display_data",
          "data": {
            "text/plain": [
              "<Figure size 432x288 with 0 Axes>"
            ]
          },
          "metadata": {
            "tags": []
          }
        },
        {
          "output_type": "display_data",
          "data": {
            "image/png": "[encoded data removed]",
            "text/plain": [
              "<Figure size 432x288 with 1 Axes>"
            ]
          },
          "metadata": {
            "tags": [],
            "needs_background": "light"
          }
        },
        {
          "output_type": "display_data",
          "data": {
            "application/javascript": [
              "\n",
              "    async function download(id, filename, size) {\n",
              "      if (!google.colab.kernel.accessAllowed) {\n",
              "        return;\n",
              "      }\n",
              "      const div = document.createElement('div');\n",
              "      const label = document.createElement('label');\n",
              "      label.textContent = `Downloading \"${filename}\": `;\n",
              "      div.appendChild(label);\n",
              "      const progress = document.createElement('progress');\n",
              "      progress.max = size;\n",
              "      div.appendChild(progress);\n",
              "      document.body.appendChild(div);\n",
              "\n",
              "      const buffers = [];\n",
              "      let downloaded = 0;\n",
              "\n",
              "      const channel = await google.colab.kernel.comms.open(id);\n",
              "      // Send a message to notify the kernel that we're ready.\n",
              "      channel.send({})\n",
              "\n",
              "      for await (const message of channel.messages) {\n",
              "        // Send a message to notify the kernel that we're ready.\n",
              "        channel.send({})\n",
              "        if (message.buffers) {\n",
              "          for (const buffer of message.buffers) {\n",
              "            buffers.push(buffer);\n",
              "            downloaded += buffer.byteLength;\n",
              "            progress.value = downloaded;\n",
              "          }\n",
              "        }\n",
              "      }\n",
              "      const blob = new Blob(buffers, {type: 'application/binary'});\n",
              "      const a = document.createElement('a');\n",
              "      a.href = window.URL.createObjectURL(blob);\n",
              "      a.download = filename;\n",
              "      div.appendChild(a);\n",
              "      a.click();\n",
              "      div.remove();\n",
              "    }\n",
              "  "
            ],
            "text/plain": [
              "<IPython.core.display.Javascript object>"
            ]
          },
          "metadata": {
            "tags": []
          }
        },
        {
          "output_type": "display_data",
          "data": {
            "application/javascript": [
              "download(\"download_8892ba02-f1c9-4f13-afc3-9744bf88211c\", \"policycomp_draw2.pdf\", 24986)"
            ],
            "text/plain": [
              "<IPython.core.display.Javascript object>"
            ]
          },
          "metadata": {
            "tags": []
          }
        },
        {
          "output_type": "display_data",
          "data": {
            "text/plain": [
              "<Figure size 432x288 with 0 Axes>"
            ]
          },
          "metadata": {
            "tags": []
          }
        }
      ]
    },
    {
      "cell_type": "code",
      "metadata": {
        "id": "izv8Ici5fiP7",
        "outputId": "828f81b6-27cb-4870-a467-029c0efd313f",
        "colab": {
          "base_uri": "https://localhost:8080/",
          "height": 1000
        }
      },
      "source": [
        "# 2-stage dependence on eta\n",
        "def experiment6():\n",
        "    sigma_etas = np.sqrt(d) * np.array([0, 0.6, 1.2, 1.8, 2.4]) \n",
        "    pu_count = np.zeros(len(sigma_etas))\n",
        "    pu_count_greedy = np.zeros(len(sigma_etas))\n",
        "    all_regret = np.zeros((R, N, len(sigma_etas)))\n",
        "    all_strong_regret = np.zeros((R, N, len(sigma_etas)))\n",
        "    all_regret_greedy = np.zeros((R, N, len(sigma_etas)))\n",
        "    all_strong_regret_greedy = np.zeros((R, N, len(sigma_etas)))\n",
        "    all_draw2 = np.zeros((R, N,len(sigma_etas)))\n",
        "    all_draw2_greedy = np.zeros((R, N,len(sigma_etas)))\n",
        "    k_list = (10, 2) \n",
        "    for i,sigma_eta in enumerate(sigma_etas):\n",
        "        sims = [Simulation(Kg = k_list, N0 = np.sum(k_list)*1, sigma_eta = sigma_eta, policy = \"rooney\") for r in range(R)] \n",
        "        sims_greedy = [Simulation(Kg = k_list, N0 = np.sum(k_list)*1, sigma_eta = sigma_eta, policy = \"rooney_greedy\") for r in range(R)]\n",
        "        sims = Parallel(n_jobs=-1)( [delayed(run_sim)(sims[r]) for r in range(R)] ) #parallel computation\n",
        "        sims_greedy = Parallel(n_jobs=-1)( [delayed(run_sim)(sims_greedy[r]) for r in range(R)] ) #parallel computation\n",
        "        print(f\"sigma_eta = {sigma_eta}\")\n",
        "        for r in range(R):\n",
        "#            sims[r].run()\n",
        "            if sims[r].is_perpetunderest():\n",
        "                print(f\"(rooney) PU occurred with i={i}, r={r}\")\n",
        "                pu_count[i] += 1\n",
        "#            sims_greedy[r].run()\n",
        "            if sims_greedy[r].is_perpetunderest():\n",
        "                print(f\"(greedy) PU occurred with i={i}, r={r}\")\n",
        "                pu_count_greedy[i] += 1\n",
        "            all_regret[r,:,i] = sims[r].regret_seq\n",
        "            all_strong_regret[r,:,i] = sims[r].strong_regret_seq\n",
        "            all_regret_greedy[r,:,i] = sims_greedy[r].regret_seq\n",
        "            #print(f\"seq = {sims_greedy[r].strong_regret_seq}\")\n",
        "            all_strong_regret_greedy[r,:,i] = sims_greedy[r].strong_regret_seq\n",
        "            all_draw2[r,:,i] = sims[r].draws_seq[:,1]\n",
        "            all_draw2_greedy[r,:,i] = sims_greedy[r].draws_seq[:,1]\n",
        "    print(f\"pu_count = {pu_count}\")\n",
        "\n",
        "    labels = [sigma_eta for sigma_eta in sigma_etas]\n",
        "    fig = plt.figure(figsize=Figsize)\n",
        "    confs = [stats.binom.interval(0.95, n=R, p=min(max(0.0001,c/R),0.9999)) for i,c in enumerate(pu_count)]\n",
        "    print(f\"confs = {confs}\")\n",
        "    pu_count_intervals = ([pu_count[i]-conf[0] for i,conf in enumerate(confs)],  [conf[1]-pu_count[i] for i,conf in enumerate(confs)])\n",
        "    w = 1 #plot bar width\n",
        "    plt.bar(np.array(range(len(sigma_etas)))-w/6, pu_count, width=w/3, yerr = pu_count_intervals, align=\"center\", capsize = Capsize, color = \"tab:blue\", label=\"Rooney\")\n",
        "    confs_greedy = [stats.binom.interval(0.95, n=R, p=min(max(0.0001,c/R),0.9999)) for i,c in enumerate(pu_count_greedy)]\n",
        "    pu_count_intervals_greedy = ([pu_count_greedy[i]-conf[0] for i,conf in enumerate(confs_greedy)],  [conf[1]-pu_count_greedy[i] for i,conf in enumerate(confs_greedy)])\n",
        "    plt.bar(np.array(range(len(sigma_etas)))+w/6, pu_count_greedy, width=w/3, yerr = pu_count_intervals_greedy, align=\"center\", capsize = Capsize, color = \"tab:red\", label=\"LF\")\n",
        "    plt.xticks(ticks = np.array(range(len(sigma_etas))), labels = labels)\n",
        "    plt.ylabel(\"# of PU\")\n",
        "    plt.xlabel(\"sigma_eta\")\n",
        "    plt.legend(loc='lower right')\n",
        "    my_show()\n",
        "    if save_img:\n",
        "        fig.savefig('rooney_pu.pdf', dpi=fig.dpi)\n",
        "        colab_save('rooney_pu.pdf')\n",
        "    plt.clf()\n",
        "\n",
        "    fig = plt.figure(figsize=Figsize)\n",
        "    #plt.plot(range(N), avg_draw2, label = \"LF\")\n",
        "    #plt.bar(range(len(sigma_etas)), avg_regret, tick_label=labels, align=\"center\")\n",
        "    avg_regret = np.mean(all_regret, axis=0)\n",
        "    avg_regret_greedy = np.mean(all_regret_greedy, axis=0)\n",
        "    avg_strong_regret = np.mean(all_strong_regret, axis=0)\n",
        "    avg_strong_regret_greedy = np.mean(all_strong_regret_greedy, axis=0)\n",
        "#    lower_quantile_regret = np.quantile(all_regret, 0.05, axis=0)\n",
        "#    upper_quantile_regret = np.quantile(all_regret, 0.95, axis=0)\n",
        "    for i,sigma_eta in enumerate(sigma_etas):\n",
        "        if i==1:\n",
        "            #plt.plot(range(N), avg_regret[:,i], label = \"sigma_eta = \"+str(sigma_eta))\n",
        "            plt.plot(range(N), avg_strong_regret[:,i], label = \"strong_sigma_eta = \"+str(sigma_eta))\n",
        "            plt.plot(range(N), avg_strong_regret_greedy[:,i], label = \"greedy strong_sigma_eta = \"+str(sigma_eta))\n",
        "            #plt.plot(range(N), avg_regret_greedy[:,i], label = \"greedy sigma_eta = \"+str(sigma_eta))\n",
        "    plt.ylabel(\"Regret\")\n",
        "#    plt.xlabel(\"sigma_eta\")\n",
        "    plt.xlabel(\"Round n\")\n",
        "    plt.legend()\n",
        "    my_show()\n",
        "    if save_img:\n",
        "        fig.savefig('rooney_regret.pdf', dpi=fig.dpi)\n",
        "        colab_save('rooney_regret.pdf')\n",
        "    plt.clf()\n",
        "\n",
        "    fig = plt.figure(figsize=Figsize)\n",
        "    #plt.plot(range(N), avg_draw2, label = \"LF\")\n",
        "    avg_draw2 = np.mean(all_draw2, axis=0)\n",
        "    avg_draw2_greedy = np.mean(all_draw2_greedy, axis=0)\n",
        "    for i,sigma_eta in enumerate(sigma_etas):\n",
        "        plt.plot(range(N), avg_draw2[:,i], label = \"sigma_eta = \"+str(sigma_eta))\n",
        "        plt.plot(range(N), avg_draw2_greedy[:,i], label = \"sigma_eta_greedy = \"+str(sigma_eta))\n",
        "    plt.ylabel(\"# of minorities hired\")\n",
        "    plt.xlabel(\"Round n\")\n",
        "    plt.legend()\n",
        "    my_show()\n",
        "    if save_img:\n",
        "        fig.savefig('rooney_draw2.pdf', dpi=fig.dpi)\n",
        "        colab_save('rooney_draw2.pdf')\n",
        "    plt.clf()\n",
        "\n",
        "experiment6()"
      ],
      "execution_count": null,
      "outputs": [
        {
          "output_type": "stream",
          "text": [
            "sigma_eta = 0.0\n",
            "(greedy) PU occurred with i=0, r=1\n",
            "(rooney) PU occurred with i=0, r=3\n",
            "(greedy) PU occurred with i=0, r=3\n",
            "(rooney) PU occurred with i=0, r=5\n",
            "(rooney) PU occurred with i=0, r=6\n",
            "(rooney) PU occurred with i=0, r=9\n",
            "sigma_eta = 0.6\n",
            "(greedy) PU occurred with i=1, r=3\n",
            "(greedy) PU occurred with i=1, r=5\n",
            "(rooney) PU occurred with i=1, r=8\n",
            "sigma_eta = 1.2\n",
            "(greedy) PU occurred with i=2, r=1\n",
            "(rooney) PU occurred with i=2, r=9\n",
            "sigma_eta = 1.8\n",
            "(greedy) PU occurred with i=3, r=7\n",
            "(greedy) PU occurred with i=3, r=8\n",
            "sigma_eta = 2.4\n",
            "(greedy) PU occurred with i=4, r=0\n",
            "(greedy) PU occurred with i=4, r=2\n",
            "pu_count = [4. 1. 1. 0. 0.]\n",
            "confs = [(1.0, 7.0), (0.0, 3.0), (0.0, 3.0), (0.0, 0.0), (0.0, 0.0)]\n"
          ],
          "name": "stdout"
        },
        {
          "output_type": "display_data",
          "data": {
            "image/png": "[encoded data removed]",
            "text/plain": [
              "<Figure size 432x288 with 1 Axes>"
            ]
          },
          "metadata": {
            "tags": [],
            "needs_background": "light"
          }
        },
        {
          "output_type": "display_data",
          "data": {
            "application/javascript": [
              "\n",
              "    async function download(id, filename, size) {\n",
              "      if (!google.colab.kernel.accessAllowed) {\n",
              "        return;\n",
              "      }\n",
              "      const div = document.createElement('div');\n",
              "      const label = document.createElement('label');\n",
              "      label.textContent = `Downloading \"${filename}\": `;\n",
              "      div.appendChild(label);\n",
              "      const progress = document.createElement('progress');\n",
              "      progress.max = size;\n",
              "      div.appendChild(progress);\n",
              "      document.body.appendChild(div);\n",
              "\n",
              "      const buffers = [];\n",
              "      let downloaded = 0;\n",
              "\n",
              "      const channel = await google.colab.kernel.comms.open(id);\n",
              "      // Send a message to notify the kernel that we're ready.\n",
              "      channel.send({})\n",
              "\n",
              "      for await (const message of channel.messages) {\n",
              "        // Send a message to notify the kernel that we're ready.\n",
              "        channel.send({})\n",
              "        if (message.buffers) {\n",
              "          for (const buffer of message.buffers) {\n",
              "            buffers.push(buffer);\n",
              "            downloaded += buffer.byteLength;\n",
              "            progress.value = downloaded;\n",
              "          }\n",
              "        }\n",
              "      }\n",
              "      const blob = new Blob(buffers, {type: 'application/binary'});\n",
              "      const a = document.createElement('a');\n",
              "      a.href = window.URL.createObjectURL(blob);\n",
              "      a.download = filename;\n",
              "      div.appendChild(a);\n",
              "      a.click();\n",
              "      div.remove();\n",
              "    }\n",
              "  "
            ],
            "text/plain": [
              "<IPython.core.display.Javascript object>"
            ]
          },
          "metadata": {
            "tags": []
          }
        },
        {
          "output_type": "display_data",
          "data": {
            "application/javascript": [
              "download(\"download_8429b54d-9844-426d-a173-bd1a5a716e56\", \"rooney_pu.pdf\", 12723)"
            ],
            "text/plain": [
              "<IPython.core.display.Javascript object>"
            ]
          },
          "metadata": {
            "tags": []
          }
        },
        {
          "output_type": "display_data",
          "data": {
            "text/plain": [
              "<Figure size 432x288 with 0 Axes>"
            ]
          },
          "metadata": {
            "tags": []
          }
        },
        {
          "output_type": "display_data",
          "data": {
            "image/png": "[encoded data removed]",
            "text/plain": [
              "<Figure size 432x288 with 1 Axes>"
            ]
          },
          "metadata": {
            "tags": [],
            "needs_background": "light"
          }
        },
        {
          "output_type": "display_data",
          "data": {
            "application/javascript": [
              "\n",
              "    async function download(id, filename, size) {\n",
              "      if (!google.colab.kernel.accessAllowed) {\n",
              "        return;\n",
              "      }\n",
              "      const div = document.createElement('div');\n",
              "      const label = document.createElement('label');\n",
              "      label.textContent = `Downloading \"${filename}\": `;\n",
              "      div.appendChild(label);\n",
              "      const progress = document.createElement('progress');\n",
              "      progress.max = size;\n",
              "      div.appendChild(progress);\n",
              "      document.body.appendChild(div);\n",
              "\n",
              "      const buffers = [];\n",
              "      let downloaded = 0;\n",
              "\n",
              "      const channel = await google.colab.kernel.comms.open(id);\n",
              "      // Send a message to notify the kernel that we're ready.\n",
              "      channel.send({})\n",
              "\n",
              "      for await (const message of channel.messages) {\n",
              "        // Send a message to notify the kernel that we're ready.\n",
              "        channel.send({})\n",
              "        if (message.buffers) {\n",
              "          for (const buffer of message.buffers) {\n",
              "            buffers.push(buffer);\n",
              "            downloaded += buffer.byteLength;\n",
              "            progress.value = downloaded;\n",
              "          }\n",
              "        }\n",
              "      }\n",
              "      const blob = new Blob(buffers, {type: 'application/binary'});\n",
              "      const a = document.createElement('a');\n",
              "      a.href = window.URL.createObjectURL(blob);\n",
              "      a.download = filename;\n",
              "      div.appendChild(a);\n",
              "      a.click();\n",
              "      div.remove();\n",
              "    }\n",
              "  "
            ],
            "text/plain": [
              "<IPython.core.display.Javascript object>"
            ]
          },
          "metadata": {
            "tags": []
          }
        },
        {
          "output_type": "display_data",
          "data": {
            "application/javascript": [
              "download(\"download_65079265-e8f5-4c12-9fdf-6ee32a07b761\", \"rooney_regret.pdf\", 15285)"
            ],
            "text/plain": [
              "<IPython.core.display.Javascript object>"
            ]
          },
          "metadata": {
            "tags": []
          }
        },
        {
          "output_type": "display_data",
          "data": {
            "text/plain": [
              "<Figure size 432x288 with 0 Axes>"
            ]
          },
          "metadata": {
            "tags": []
          }
        },
        {
          "output_type": "display_data",
          "data": {
            "image/png": "[encoded data removed]",
            "text/plain": [
              "<Figure size 432x288 with 1 Axes>"
            ]
          },
          "metadata": {
            "tags": [],
            "needs_background": "light"
          }
        },
        {
          "output_type": "display_data",
          "data": {
            "application/javascript": [
              "\n",
              "    async function download(id, filename, size) {\n",
              "      if (!google.colab.kernel.accessAllowed) {\n",
              "        return;\n",
              "      }\n",
              "      const div = document.createElement('div');\n",
              "      const label = document.createElement('label');\n",
              "      label.textContent = `Downloading \"${filename}\": `;\n",
              "      div.appendChild(label);\n",
              "      const progress = document.createElement('progress');\n",
              "      progress.max = size;\n",
              "      div.appendChild(progress);\n",
              "      document.body.appendChild(div);\n",
              "\n",
              "      const buffers = [];\n",
              "      let downloaded = 0;\n",
              "\n",
              "      const channel = await google.colab.kernel.comms.open(id);\n",
              "      // Send a message to notify the kernel that we're ready.\n",
              "      channel.send({})\n",
              "\n",
              "      for await (const message of channel.messages) {\n",
              "        // Send a message to notify the kernel that we're ready.\n",
              "        channel.send({})\n",
              "        if (message.buffers) {\n",
              "          for (const buffer of message.buffers) {\n",
              "            buffers.push(buffer);\n",
              "            downloaded += buffer.byteLength;\n",
              "            progress.value = downloaded;\n",
              "          }\n",
              "        }\n",
              "      }\n",
              "      const blob = new Blob(buffers, {type: 'application/binary'});\n",
              "      const a = document.createElement('a');\n",
              "      a.href = window.URL.createObjectURL(blob);\n",
              "      a.download = filename;\n",
              "      div.appendChild(a);\n",
              "      a.click();\n",
              "      div.remove();\n",
              "    }\n",
              "  "
            ],
            "text/plain": [
              "<IPython.core.display.Javascript object>"
            ]
          },
          "metadata": {
            "tags": []
          }
        },
        {
          "output_type": "display_data",
          "data": {
            "application/javascript": [
              "download(\"download_a7607668-74b5-4bb9-92ee-c140fdf46744\", \"rooney_draw2.pdf\", 26600)"
            ],
            "text/plain": [
              "<IPython.core.display.Javascript object>"
            ]
          },
          "metadata": {
            "tags": []
          }
        },
        {
          "output_type": "display_data",
          "data": {
            "text/plain": [
              "<Figure size 432x288 with 0 Axes>"
            ]
          },
          "metadata": {
            "tags": []
          }
        }
      ]
    },
    {
      "cell_type": "code",
      "metadata": {
        "id": "EouVnaRpj6jA",
        "outputId": "c73a8a0d-0702-416a-98a4-3209ac06d7f1",
        "colab": {
          "base_uri": "https://localhost:8080/",
          "height": 1000
        }
      },
      "source": [
        "# warm-start LF versus Hybrid\n",
        "def experiment8():\n",
        "    Kg = (10, 2)\n",
        "    N0_list = [10, 20, 50, 100]\n",
        "    pu_count_greedy = np.zeros(len(N0_list))\n",
        "    pu_count_iucb = 0\n",
        "    sims_greedy_list = [None for N0 in N0_list]\n",
        "    for k,N0 in enumerate(N0_list):\n",
        "        sims = [Simulation(Kg = Kg, N0 = N0, policy = \"greedy\", count_ws_regret = True) for r in range(R)]\n",
        "        sims = Parallel(n_jobs=-1)( [delayed(run_sim)(sims[r]) for r in range(R)] ) #parallel computation\n",
        "        for r in range(R):\n",
        "            if sims[r].is_perpetunderest():\n",
        "                pu_count_greedy[k] += 1\n",
        "        sims_greedy_list[k] = sims\n",
        "    sims_iucb = [Simulation(Kg = Kg, N0 = np.sum(Kg)*1, policy = \"improved_ucb\", count_ws_regret = True) for r in range(R)]\n",
        "    sims_iucb = Parallel(n_jobs=-1)( [delayed(run_sim)(sims_iucb[r]) for r in range(R)] ) #parallel computation\n",
        "    for r in range(R):\n",
        "        #sims_iucb[r].run()\n",
        "        if sims_iucb[r].is_perpetunderest():\n",
        "            pu_count_iucb += 1\n",
        "\n",
        "    all_regret_greedy = np.zeros( (R,N,len(N0_list)) )\n",
        "    all_draw2_greedy = np.zeros( (R,N,len(N0_list)) )\n",
        "    all_subsidy_greedy = np.zeros( (R,N,len(N0_list)) )\n",
        "    all_subsidycs_greedy = np.zeros( (R,N,len(N0_list)) )\n",
        "    all_regret_iucb = np.zeros( (R,N) )\n",
        "    all_draw2_iucb = np.zeros( (R,N) )\n",
        "    all_subsidy_iucb = np.zeros( (R,N) )\n",
        "    all_subsidycs_iucb = np.zeros( (R,N) )\n",
        "    for r in range(R):\n",
        "        for k,N0 in enumerate(N0_list):\n",
        "            all_regret_greedy[r,:,k] += sims_greedy_list[k][r].regret_seq\n",
        "            all_draw2_greedy[r,:,k] += sims_greedy_list[k][r].draws_seq[:,1]\n",
        "            all_subsidy_greedy[r,:,k] += sims_greedy_list[k][r].subsidy_seq\n",
        "            all_subsidycs_greedy[r,:,k] += sims_greedy_list[k][r].subsidycs_seq\n",
        "        all_regret_iucb[r] += sims_iucb[r].regret_seq\n",
        "        all_draw2_iucb[r] += sims_iucb[r].draws_seq[:,1]\n",
        "        all_subsidy_iucb[r] += sims_iucb[r].subsidy_seq\n",
        "        all_subsidycs_iucb[r] += sims_iucb[r].subsidycs_seq\n",
        "\n",
        "    fig = plt.figure(figsize=Figsize)\n",
        "    avg_regret_greedy = np.mean(all_regret_greedy, axis=0) #N x k\n",
        "    std_regret_greedy = np.std(all_regret_greedy, axis=0) #N x k\n",
        "#    lower_quantile_regret_greedy = np.quantile(all_regret_greedy, 0.05, axis=0) #N x k\n",
        "#    upper_quantile_regret_greedy = np.quantile(all_regret_greedy, 0.95, axis=0) #N x k\n",
        "    colors = ['tab:blue', 'tab:green', 'tab:red', 'tab:brown']\n",
        "    linestyles = [(0,(1,1)),(0,(2,1)),(0,(3,1)),(0,(4,1))]\n",
        "    for k,N0 in enumerate(N0_list):\n",
        "        plt.plot(range(N), avg_regret_greedy[:,k], label = f\"LF with N0={N0}\", color = colors[k], linestyle = linestyles[k]) #, color = COLOR_GREEDY, linestyle = LINESTYLE_GREEDY)\n",
        "        #plt.fill_between(range(N), lower_quantile_regret_ucb, upper_quantile_regret_ucb, alpha=Alpha, color = COLOR_UCB)\n",
        "        plt.errorbar([N-1], avg_regret_greedy[-1,k], yerr=2*std_regret_greedy[-1,k]/np.sqrt(R), fmt='o', color = colors[k], linestyle = linestyles[k], capsize = Capsize) #2 sigma\n",
        "\n",
        "    avg_regret_iucb = np.mean(all_regret_iucb, axis=0)\n",
        "    std_regret_iucb = np.std(all_regret_iucb, axis=0)\n",
        "#    lower_quantile_regret_iucb = np.quantile(all_regret_iucb, 0.05, axis=0)\n",
        "#    upper_quantile_regret_iucb = np.quantile(all_regret_iucb, 0.95, axis=0)\n",
        "    plt.plot(range(N), avg_regret_iucb, label = \"Hybrid\", color = COLOR_HYBRID, linestyle = LINESTYLE_HYBRID)\n",
        "    plt.errorbar([N-1], avg_regret_iucb[-1], yerr=2*std_regret_iucb[-1]/np.sqrt(R), fmt='o', capsize = Capsize, color = COLOR_HYBRID) #2 sigma\n",
        "#    plt.fill_between(range(N), lower_quantile_regret_iucb, upper_quantile_regret_iucb, alpha=Alpha, color = COLOR_HYBRID)\n",
        "    plt.ylabel(\"Regret\")\n",
        "    plt.xlabel(\"Round (n)\")\n",
        "    plt.legend()\n",
        "    my_show()\n",
        "    if save_img:\n",
        "        fig.savefig('ws_compare_regret.pdf', dpi=fig.dpi)\n",
        "        colab_save('ws_compare_regret.pdf')\n",
        "    plt.clf()\n",
        "\n",
        "    pu_count_all = [pu_count_iucb] + list(pu_count_greedy)\n",
        "    print(f\"pu_count_all = {pu_count_all}\")\n",
        "    confs = [stats.binom.interval(0.95, n=R, p=min(max(0.0001,c/R),0.9999)) for i,c in enumerate(pu_count_all)]\n",
        "    print(f\"confs = {confs}\")\n",
        "    pu_count_intervals = ([pu_count_all[i]-conf[0] for i,conf in enumerate(confs)],  [conf[1]-pu_count_all[i] for i,conf in enumerate(confs)])\n",
        "    print(f\"pu_count_intervals = {pu_count_intervals}\")\n",
        "    colors = [\"tab:blue\"] + [\"tab:red\" for N0 in N0_list] \n",
        "    labels = [\"Hybrid\"] + [f\"N0={N0}\" for N0 in N0_list]\n",
        "    print(f\"pu_count_all = {pu_count_all}\")\n",
        "    print(f\"labels = {labels}\")\n",
        "    print(f\"pu_count_intervals = {pu_count_intervals}\")\n",
        "    fig = plt.figure(figsize=Figsize)\n",
        "    plt.bar(range(len(pu_count_all)), pu_count_all, tick_label=labels, yerr = pu_count_intervals, align=\"center\", capsize = Capsize, color = colors)\n",
        "    plt.ylabel(\"# of PU\")\n",
        "    plt.xlabel(\"decision rules\")\n",
        "    #plt.legend()\n",
        "    my_show()\n",
        "    if save_img:\n",
        "        fig.savefig('ws_compare_pu.pdf', dpi=fig.dpi)\n",
        "        colab_save('ws_compare_pu.pdf')\n",
        "    plt.clf()\n",
        "\n",
        "\n",
        "    fig = plt.figure(figsize=Figsize)\n",
        "    avg_subsidycs_greedy = np.mean(all_subsidycs_greedy, axis=0) #N x k\n",
        "    avg_subsidycs_iucb = np.mean(all_subsidycs_iucb, axis=0)\n",
        "    std_subsidycs_greedy = np.std(all_subsidycs_greedy, axis=0) #N \n",
        "    std_subsidycs_iucb = np.std(all_subsidycs_iucb, axis=0)\n",
        "    avg_subsidycs_all = [avg_subsidycs_iucb[-1]] + [avg_subsidycs_greedy[-1,k] for k,N0 in enumerate(N0_list)] \n",
        "    std_subsidycs_all = [std_subsidycs_iucb[-1]] + [std_subsidycs_greedy[-1,k] for k,N0 in enumerate(N0_list)] \n",
        "    confs = [stats.norm.interval(0.95, loc=c, scale=std_subsidycs_all[i]) for i,c in enumerate(avg_subsidycs_all)]\n",
        "    subsidycs_intervals = ([avg_subsidycs_all[i]-conf[0] for i,conf in enumerate(confs)],  [conf[1]-avg_subsidycs_all[i] for i,conf in enumerate(confs)])\n",
        "#    labels = [\"Hybrid\"] + [f\"N0={N0}\" for N0 in N0_list]\n",
        "    print(f\"avg_subsidycs_all = {avg_subsidycs_all}\")\n",
        "    print(f\"subsidycs_intervals = {subsidycs_intervals}\")\n",
        "    plt.bar(range(len(avg_subsidycs_all)), avg_subsidycs_all, tick_label=labels, yerr = subsidycs_intervals, align=\"center\", capsize = Capsize, color = colors)\n",
        "    plt.ylabel(\"Subsid(N)\")\n",
        "    plt.xlabel(\"Decision rules\")\n",
        "\n",
        "    plt.legend()\n",
        "    my_show()\n",
        "    if save_img:\n",
        "        fig.savefig('ws_compare_subsidy.pdf', dpi=fig.dpi)\n",
        "        colab_save('ws_compare_subsidy.pdf')\n",
        "    plt.clf()\n",
        "\n",
        "experiment8()\n",
        "#assert(False)"
      ],
      "execution_count": null,
      "outputs": [
        {
          "output_type": "display_data",
          "data": {
            "image/png": "[encoded data removed]",
            "text/plain": [
              "<Figure size 432x288 with 1 Axes>"
            ]
          },
          "metadata": {
            "tags": [],
            "needs_background": "light"
          }
        },
        {
          "output_type": "display_data",
          "data": {
            "application/javascript": [
              "\n",
              "    async function download(id, filename, size) {\n",
              "      if (!google.colab.kernel.accessAllowed) {\n",
              "        return;\n",
              "      }\n",
              "      const div = document.createElement('div');\n",
              "      const label = document.createElement('label');\n",
              "      label.textContent = `Downloading \"${filename}\": `;\n",
              "      div.appendChild(label);\n",
              "      const progress = document.createElement('progress');\n",
              "      progress.max = size;\n",
              "      div.appendChild(progress);\n",
              "      document.body.appendChild(div);\n",
              "\n",
              "      const buffers = [];\n",
              "      let downloaded = 0;\n",
              "\n",
              "      const channel = await google.colab.kernel.comms.open(id);\n",
              "      // Send a message to notify the kernel that we're ready.\n",
              "      channel.send({})\n",
              "\n",
              "      for await (const message of channel.messages) {\n",
              "        // Send a message to notify the kernel that we're ready.\n",
              "        channel.send({})\n",
              "        if (message.buffers) {\n",
              "          for (const buffer of message.buffers) {\n",
              "            buffers.push(buffer);\n",
              "            downloaded += buffer.byteLength;\n",
              "            progress.value = downloaded;\n",
              "          }\n",
              "        }\n",
              "      }\n",
              "      const blob = new Blob(buffers, {type: 'application/binary'});\n",
              "      const a = document.createElement('a');\n",
              "      a.href = window.URL.createObjectURL(blob);\n",
              "      a.download = filename;\n",
              "      div.appendChild(a);\n",
              "      a.click();\n",
              "      div.remove();\n",
              "    }\n",
              "  "
            ],
            "text/plain": [
              "<IPython.core.display.Javascript object>"
            ]
          },
          "metadata": {
            "tags": []
          }
        },
        {
          "output_type": "display_data",
          "data": {
            "application/javascript": [
              "download(\"download_91c75658-42af-4609-a05c-b2d463b02f41\", \"ws_compare_regret.pdf\", 15217)"
            ],
            "text/plain": [
              "<IPython.core.display.Javascript object>"
            ]
          },
          "metadata": {
            "tags": []
          }
        },
        {
          "output_type": "stream",
          "text": [
            "pu_count_all = [0, 1.0, 0.0, 0.0, 0.0]\n",
            "confs = [(0.0, 0.0), (0.0, 3.0), (0.0, 0.0), (0.0, 0.0), (0.0, 0.0)]\n",
            "pu_count_intervals = ([0.0, 1.0, 0.0, 0.0, 0.0], [0.0, 2.0, 0.0, 0.0, 0.0])\n",
            "pu_count_all = [0, 1.0, 0.0, 0.0, 0.0]\n",
            "labels = ['Hybrid', 'N0=10', 'N0=20', 'N0=50', 'N0=100']\n",
            "pu_count_intervals = ([0.0, 1.0, 0.0, 0.0, 0.0], [0.0, 2.0, 0.0, 0.0, 0.0])\n"
          ],
          "name": "stdout"
        },
        {
          "output_type": "display_data",
          "data": {
            "text/plain": [
              "<Figure size 432x288 with 0 Axes>"
            ]
          },
          "metadata": {
            "tags": []
          }
        },
        {
          "output_type": "display_data",
          "data": {
            "image/png": "[encoded data removed]",
            "text/plain": [
              "<Figure size 432x288 with 1 Axes>"
            ]
          },
          "metadata": {
            "tags": [],
            "needs_background": "light"
          }
        },
        {
          "output_type": "display_data",
          "data": {
            "application/javascript": [
              "\n",
              "    async function download(id, filename, size) {\n",
              "      if (!google.colab.kernel.accessAllowed) {\n",
              "        return;\n",
              "      }\n",
              "      const div = document.createElement('div');\n",
              "      const label = document.createElement('label');\n",
              "      label.textContent = `Downloading \"${filename}\": `;\n",
              "      div.appendChild(label);\n",
              "      const progress = document.createElement('progress');\n",
              "      progress.max = size;\n",
              "      div.appendChild(progress);\n",
              "      document.body.appendChild(div);\n",
              "\n",
              "      const buffers = [];\n",
              "      let downloaded = 0;\n",
              "\n",
              "      const channel = await google.colab.kernel.comms.open(id);\n",
              "      // Send a message to notify the kernel that we're ready.\n",
              "      channel.send({})\n",
              "\n",
              "      for await (const message of channel.messages) {\n",
              "        // Send a message to notify the kernel that we're ready.\n",
              "        channel.send({})\n",
              "        if (message.buffers) {\n",
              "          for (const buffer of message.buffers) {\n",
              "            buffers.push(buffer);\n",
              "            downloaded += buffer.byteLength;\n",
              "            progress.value = downloaded;\n",
              "          }\n",
              "        }\n",
              "      }\n",
              "      const blob = new Blob(buffers, {type: 'application/binary'});\n",
              "      const a = document.createElement('a');\n",
              "      a.href = window.URL.createObjectURL(blob);\n",
              "      a.download = filename;\n",
              "      div.appendChild(a);\n",
              "      a.click();\n",
              "      div.remove();\n",
              "    }\n",
              "  "
            ],
            "text/plain": [
              "<IPython.core.display.Javascript object>"
            ]
          },
          "metadata": {
            "tags": []
          }
        },
        {
          "output_type": "display_data",
          "data": {
            "application/javascript": [
              "download(\"download_9c377bb7-b48f-4911-bf88-fa0f670c932c\", \"ws_compare_pu.pdf\", 10805)"
            ],
            "text/plain": [
              "<IPython.core.display.Javascript object>"
            ]
          },
          "metadata": {
            "tags": []
          }
        },
        {
          "output_type": "stream",
          "text": [
            "avg_subsidycs_all = [50.44974161155263, 30.336632799045372, 69.50873856488208, 180.18159033856378, 331.6404336139949]\n",
            "subsidycs_intervals = ([20.286040388436906, 12.833196543841225, 30.698673622846755, 67.72691728319629, 55.02433474776063], [20.28604038843691, 12.833196543841229, 30.698673622846755, 67.72691728319629, 55.02433474776063])\n"
          ],
          "name": "stdout"
        },
        {
          "output_type": "stream",
          "text": [
            "No handles with labels found to put in legend.\n"
          ],
          "name": "stderr"
        },
        {
          "output_type": "display_data",
          "data": {
            "text/plain": [
              "<Figure size 432x288 with 0 Axes>"
            ]
          },
          "metadata": {
            "tags": []
          }
        },
        {
          "output_type": "display_data",
          "data": {
            "image/png": "[encoded data removed]",
            "text/plain": [
              "<Figure size 432x288 with 1 Axes>"
            ]
          },
          "metadata": {
            "tags": [],
            "needs_background": "light"
          }
        },
        {
          "output_type": "display_data",
          "data": {
            "application/javascript": [
              "\n",
              "    async function download(id, filename, size) {\n",
              "      if (!google.colab.kernel.accessAllowed) {\n",
              "        return;\n",
              "      }\n",
              "      const div = document.createElement('div');\n",
              "      const label = document.createElement('label');\n",
              "      label.textContent = `Downloading \"${filename}\": `;\n",
              "      div.appendChild(label);\n",
              "      const progress = document.createElement('progress');\n",
              "      progress.max = size;\n",
              "      div.appendChild(progress);\n",
              "      document.body.appendChild(div);\n",
              "\n",
              "      const buffers = [];\n",
              "      let downloaded = 0;\n",
              "\n",
              "      const channel = await google.colab.kernel.comms.open(id);\n",
              "      // Send a message to notify the kernel that we're ready.\n",
              "      channel.send({})\n",
              "\n",
              "      for await (const message of channel.messages) {\n",
              "        // Send a message to notify the kernel that we're ready.\n",
              "        channel.send({})\n",
              "        if (message.buffers) {\n",
              "          for (const buffer of message.buffers) {\n",
              "            buffers.push(buffer);\n",
              "            downloaded += buffer.byteLength;\n",
              "            progress.value = downloaded;\n",
              "          }\n",
              "        }\n",
              "      }\n",
              "      const blob = new Blob(buffers, {type: 'application/binary'});\n",
              "      const a = document.createElement('a');\n",
              "      a.href = window.URL.createObjectURL(blob);\n",
              "      a.download = filename;\n",
              "      div.appendChild(a);\n",
              "      a.click();\n",
              "      div.remove();\n",
              "    }\n",
              "  "
            ],
            "text/plain": [
              "<IPython.core.display.Javascript object>"
            ]
          },
          "metadata": {
            "tags": []
          }
        },
        {
          "output_type": "display_data",
          "data": {
            "application/javascript": [
              "download(\"download_847f96aa-cf2f-41fa-a69f-a2e781754430\", \"ws_compare_subsidy.pdf\", 11400)"
            ],
            "text/plain": [
              "<IPython.core.display.Javascript object>"
            ]
          },
          "metadata": {
            "tags": []
          }
        },
        {
          "output_type": "display_data",
          "data": {
            "text/plain": [
              "<Figure size 432x288 with 0 Axes>"
            ]
          },
          "metadata": {
            "tags": []
          }
        }
      ]
    },
    {
      "cell_type": "code",
      "metadata": {
        "id": "CYmGRow62J3n",
        "outputId": "d293823e-5acf-4637-b236-bf5654161e7a",
        "colab": {
          "base_uri": "https://localhost:8080/",
          "height": 595
        }
      },
      "source": [
        "# PU as a function of K1 (majority pop)\n",
        "def experiment3():\n",
        "    k_list_all = [(2,2),(10,2),(30,2),(100,2)]\n",
        "    pu_count = np.zeros(len(k_list_all))\n",
        "    for i,k_list in enumerate(k_list_all):\n",
        "        sims = [Simulation(Kg = k_list, N0 = np.sum(k_list)*1, policy = \"greedy\") for r in range(R)]\n",
        "        sims = Parallel(n_jobs=-1)( [delayed(run_sim)(sims[r]) for r in range(R)] ) #parallel computation\n",
        "        print(f\"k_list = {k_list}\")\n",
        "        for r in range(R):\n",
        "            #sims[r].run()\n",
        "            if sims[r].is_perpetunderest():\n",
        "                print(f\"PU occurred with i={i}, r={r}\")\n",
        "                pu_count[i] += 1\n",
        "    print(f\"pu_count = {pu_count}\")\n",
        "    confs = [stats.binom.interval(0.95, n=R, p=min(max(0.0001,c/R),0.9999)) for i,c in enumerate(pu_count)]\n",
        "    print(f\"confs = {confs}\")\n",
        "    pu_count_intervals = ([pu_count[i]-conf[0] for i,conf in enumerate(confs)],  [conf[1]-pu_count[i] for i,conf in enumerate(confs)])\n",
        "    print(f\"pu_count_intervals = {pu_count_intervals}\")\n",
        "    labels = [k_list[0] for k_list in k_list_all]\n",
        "    fig = plt.figure(figsize=Figsize)\n",
        "    plt.bar(range(len(k_list_all)), pu_count, tick_label=labels, yerr = pu_count_intervals, align=\"center\", capsize = Capsize)\n",
        "    plt.ylabel(\"# of PU\")\n",
        "    plt.xlabel(\"# of majority candidates\")\n",
        "    #plt.legend()\n",
        "    my_show()\n",
        "    if save_img:\n",
        "        fig.savefig('groupsize_pu.pdf', dpi=fig.dpi)\n",
        "        colab_save('groupsize_pu.pdf')\n",
        "    plt.clf()\n",
        "\n",
        "experiment3()"
      ],
      "execution_count": null,
      "outputs": [
        {
          "output_type": "stream",
          "text": [
            "k_list = (2, 2)\n",
            "PU occurred with i=0, r=1\n",
            "k_list = (10, 2)\n",
            "PU occurred with i=1, r=0\n",
            "PU occurred with i=1, r=5\n",
            "k_list = (30, 2)\n",
            "PU occurred with i=2, r=0\n",
            "PU occurred with i=2, r=3\n",
            "PU occurred with i=2, r=6\n",
            "k_list = (100, 2)\n",
            "PU occurred with i=3, r=1\n",
            "PU occurred with i=3, r=2\n",
            "PU occurred with i=3, r=3\n",
            "pu_count = [1. 2. 3. 3.]\n",
            "confs = [(0.0, 3.0), (0.0, 5.0), (0.0, 6.0), (0.0, 6.0)]\n",
            "pu_count_intervals = ([1.0, 2.0, 3.0, 3.0], [2.0, 3.0, 3.0, 3.0])\n"
          ],
          "name": "stdout"
        },
        {
          "output_type": "display_data",
          "data": {
            "image/png": "[encoded data removed]",
            "text/plain": [
              "<Figure size 432x288 with 1 Axes>"
            ]
          },
          "metadata": {
            "tags": [],
            "needs_background": "light"
          }
        },
        {
          "output_type": "display_data",
          "data": {
            "application/javascript": [
              "\n",
              "    async function download(id, filename, size) {\n",
              "      if (!google.colab.kernel.accessAllowed) {\n",
              "        return;\n",
              "      }\n",
              "      const div = document.createElement('div');\n",
              "      const label = document.createElement('label');\n",
              "      label.textContent = `Downloading \"${filename}\": `;\n",
              "      div.appendChild(label);\n",
              "      const progress = document.createElement('progress');\n",
              "      progress.max = size;\n",
              "      div.appendChild(progress);\n",
              "      document.body.appendChild(div);\n",
              "\n",
              "      const buffers = [];\n",
              "      let downloaded = 0;\n",
              "\n",
              "      const channel = await google.colab.kernel.comms.open(id);\n",
              "      // Send a message to notify the kernel that we're ready.\n",
              "      channel.send({})\n",
              "\n",
              "      for await (const message of channel.messages) {\n",
              "        // Send a message to notify the kernel that we're ready.\n",
              "        channel.send({})\n",
              "        if (message.buffers) {\n",
              "          for (const buffer of message.buffers) {\n",
              "            buffers.push(buffer);\n",
              "            downloaded += buffer.byteLength;\n",
              "            progress.value = downloaded;\n",
              "          }\n",
              "        }\n",
              "      }\n",
              "      const blob = new Blob(buffers, {type: 'application/binary'});\n",
              "      const a = document.createElement('a');\n",
              "      a.href = window.URL.createObjectURL(blob);\n",
              "      a.download = filename;\n",
              "      div.appendChild(a);\n",
              "      a.click();\n",
              "      div.remove();\n",
              "    }\n",
              "  "
            ],
            "text/plain": [
              "<IPython.core.display.Javascript object>"
            ]
          },
          "metadata": {
            "tags": []
          }
        },
        {
          "output_type": "display_data",
          "data": {
            "application/javascript": [
              "download(\"download_397717ef-c8de-48db-a28b-6c3e07b59e01\", \"groupsize_pu.pdf\", 11141)"
            ],
            "text/plain": [
              "<IPython.core.display.Javascript object>"
            ]
          },
          "metadata": {
            "tags": []
          }
        },
        {
          "output_type": "display_data",
          "data": {
            "text/plain": [
              "<Figure size 432x288 with 0 Axes>"
            ]
          },
          "metadata": {
            "tags": []
          }
        }
      ]
    },
    {
      "cell_type": "code",
      "metadata": {
        "id": "LqIKsVW4TXwO",
        "outputId": "67ad5209-5b42-4a19-bb3c-e21aec5b7151",
        "colab": {
          "base_uri": "https://localhost:8080/",
          "height": 1000
        }
      },
      "source": [
        "# UCB versus Hybrid\n",
        "def experiment2d():\n",
        "    Kg = (10, 2)\n",
        "    sims_ucb = [Simulation(Kg = Kg, N0 = np.sum(Kg)*1, policy = \"ucb\") for r in range(R)]\n",
        "    sims_iucb = [Simulation(Kg = Kg, N0 = np.sum(Kg)*1, policy = \"improved_ucb\") for r in range(R)]\n",
        "    sims_ucb = Parallel(n_jobs=-1)( [delayed(run_sim)(sims_ucb[r]) for r in range(R)] ) #parallel computation\n",
        "    sims_iucb = Parallel(n_jobs=-1)( [delayed(run_sim)(sims_iucb[r]) for r in range(R)] ) #parallel computation\n",
        "\n",
        "    all_regret_ucb = np.zeros( (R,N) )\n",
        "    all_draw2_ucb = np.zeros( (R,N) )\n",
        "    all_subsidy_ucb = np.zeros( (R,N) )\n",
        "    all_subsidycs_ucb = np.zeros( (R,N) )\n",
        "    all_regret_iucb = np.zeros( (R,N) )\n",
        "    all_draw2_iucb = np.zeros( (R,N) )\n",
        "    all_subsidy_iucb = np.zeros( (R,N) )\n",
        "    all_subsidycs_iucb = np.zeros( (R,N) )\n",
        "    for r in range(R):\n",
        "        all_regret_ucb[r] += sims_ucb[r].regret_seq\n",
        "        all_draw2_ucb[r] += sims_ucb[r].draws_seq[:,1]\n",
        "        all_subsidy_ucb[r] += sims_ucb[r].subsidy_seq\n",
        "        all_subsidycs_ucb[r] += sims_ucb[r].subsidycs_seq\n",
        "        all_regret_iucb[r] += sims_iucb[r].regret_seq\n",
        "        all_draw2_iucb[r] += sims_iucb[r].draws_seq[:,1]\n",
        "        all_subsidy_iucb[r] += sims_iucb[r].subsidy_seq\n",
        "        all_subsidycs_iucb[r] += sims_iucb[r].subsidycs_seq\n",
        "\n",
        "    fig = plt.figure(figsize=Figsize)\n",
        "    avg_regret_ucb = np.mean(all_regret_ucb, axis=0)\n",
        "    std_regret_ucb = np.std(all_regret_ucb, axis=0)\n",
        "    lower_quantile_regret_ucb = np.quantile(all_regret_ucb, 0.05, axis=0)\n",
        "    upper_quantile_regret_ucb = np.quantile(all_regret_ucb, 0.95, axis=0)\n",
        "    plt.plot(range(N), avg_regret_ucb, label = \"UCB\", color = COLOR_UCB, linestyle = LINESTYLE_UCB)\n",
        "    plt.errorbar([N-1], avg_regret_ucb[-1], yerr=2*std_regret_ucb[-1]/np.sqrt(R), fmt='o', capsize = Capsize, color = COLOR_UCB) #2 sigma\n",
        "    plt.fill_between(range(N), lower_quantile_regret_ucb, upper_quantile_regret_ucb, alpha=Alpha, color = COLOR_UCB)\n",
        "\n",
        "    avg_regret_iucb = np.mean(all_regret_iucb, axis=0)\n",
        "    std_regret_iucb = np.std(all_regret_iucb, axis=0)\n",
        "    lower_quantile_regret_iucb = np.quantile(all_regret_iucb, 0.05, axis=0)\n",
        "    upper_quantile_regret_iucb = np.quantile(all_regret_iucb, 0.95, axis=0)\n",
        "    plt.plot(range(N), avg_regret_iucb, label = \"Hybrid\", color = COLOR_HYBRID, linestyle = LINESTYLE_HYBRID)\n",
        "    plt.errorbar([N-1], avg_regret_iucb[-1], yerr=2*std_regret_iucb[-1]/np.sqrt(R), fmt='o', capsize = Capsize, color = COLOR_HYBRID) #2 sigma\n",
        "    plt.fill_between(range(N), lower_quantile_regret_iucb, upper_quantile_regret_iucb, alpha=Alpha, color = COLOR_HYBRID)\n",
        "    plt.ylabel(\"Regret\")\n",
        "    plt.xlabel(\"Round (n)\")\n",
        "    plt.legend()\n",
        "    my_show()\n",
        "    if save_img:\n",
        "        fig.savefig('iucb_regret.pdf', dpi=fig.dpi)\n",
        "        colab_save('iucb_regret.pdf')\n",
        "    plt.clf()\n",
        "\n",
        "    fig = plt.figure(figsize=Figsize)\n",
        "    avg_draw2_ucb = np.mean(all_draw2_ucb, axis=0)\n",
        "    std_draw2_ucb = np.std(all_draw2_ucb, axis=0)\n",
        "    lower_quantile_draw2_ucb = np.quantile(all_draw2_ucb, 0.05, axis=0)\n",
        "    upper_quantile_draw2_ucb = np.quantile(all_draw2_ucb, 0.95, axis=0)\n",
        "    plt.plot(range(N), avg_draw2_ucb, label = \"UCB\", color = COLOR_UCB, linestyle = LINESTYLE_UCB)\n",
        "    plt.errorbar([N-1], avg_draw2_ucb[-1], yerr=2*std_draw2_ucb[-1]/np.sqrt(R), fmt='o', capsize = Capsize, color = COLOR_UCB) #2 sigma\n",
        "    plt.fill_between(range(N), lower_quantile_draw2_ucb, upper_quantile_draw2_ucb, alpha=Alpha, color = COLOR_UCB)\n",
        "\n",
        "    avg_draw2_iucb = np.mean(all_draw2_iucb, axis=0)\n",
        "    std_draw2_iucb = np.std(all_draw2_iucb, axis=0)\n",
        "    lower_quantile_draw2_iucb = np.quantile(all_draw2_iucb, 0.05, axis=0)\n",
        "    upper_quantile_draw2_iucb = np.quantile(all_draw2_iucb, 0.95, axis=0)\n",
        "    plt.plot(range(N), avg_draw2_iucb, label = \"Hybrid\", color = COLOR_HYBRID, linestyle = LINESTYLE_HYBRID)\n",
        "    plt.errorbar([N-1], avg_draw2_iucb[-1], yerr=2*std_draw2_iucb[-1]/np.sqrt(R), fmt='o', capsize = Capsize, color = COLOR_HYBRID) #2 sigma\n",
        "    plt.fill_between(range(N), lower_quantile_draw2_iucb, upper_quantile_draw2_iucb, alpha=Alpha, color = COLOR_HYBRID)\n",
        "    plt.plot(range(N), [i*Kg[1]/np.sum(Kg) for i in range(N)], label = \"Optimal\", color = \"black\", linestyle=linestyle_tuple[\"loosely dashed\"])\n",
        "\n",
        "    plt.ylabel(\"# of minorities hired\")\n",
        "    plt.xlabel(\"Round (n)\")\n",
        "    plt.legend()\n",
        "    my_show()\n",
        "    if save_img:\n",
        "        fig.savefig('iucb_draw2.pdf', dpi=fig.dpi)\n",
        "        colab_save('iucb_draw2.pdf')\n",
        "    plt.clf()\n",
        "\n",
        "    fig = plt.figure(figsize=Figsize)\n",
        "    avg_subsidy_ucb = np.mean(all_subsidy_ucb, axis=0)\n",
        "    std_subsidy_ucb = np.std(all_subsidy_ucb, axis=0)\n",
        "    lower_quantile_subsidy_ucb = np.quantile(all_subsidy_ucb, 0.05, axis=0)\n",
        "    upper_quantile_subsidy_ucb = np.quantile(all_subsidy_ucb, 0.95, axis=0)\n",
        "    plt.plot(range(N), avg_subsidy_ucb, label = \"UCB\", color=COLOR_UCB, linestyle = LINESTYLE_UCB)\n",
        "    plt.errorbar([N-1], avg_subsidy_ucb[-1], yerr=2*std_subsidy_ucb[-1]/np.sqrt(R), fmt='o', capsize = Capsize, color = COLOR_UCB) #2 sigma\n",
        "    plt.fill_between(range(N), lower_quantile_subsidy_ucb, upper_quantile_subsidy_ucb, alpha=Alpha, color = COLOR_UCB)\n",
        "\n",
        "    avg_subsidy_iucb = np.mean(all_subsidy_iucb, axis=0)\n",
        "    std_subsidy_iucb = np.std(all_subsidy_iucb, axis=0)\n",
        "    lower_quantile_subsidy_iucb = np.quantile(all_subsidy_iucb, 0.05, axis=0)\n",
        "    upper_quantile_subsidy_iucb = np.quantile(all_subsidy_iucb, 0.95, axis=0)\n",
        "    plt.plot(range(N), avg_subsidy_iucb, label = \"Hybrid\", color = COLOR_HYBRID, linestyle = LINESTYLE_HYBRID)\n",
        "    plt.errorbar([N-1], avg_subsidy_iucb[-1], yerr=2*std_subsidy_iucb[-1]/np.sqrt(R), fmt='o', capsize = Capsize, color = COLOR_HYBRID) #2 sigma\n",
        "    plt.fill_between(range(N), lower_quantile_subsidy_iucb, upper_quantile_subsidy_iucb, alpha=Alpha, color = COLOR_HYBRID)\n",
        "\n",
        "    plt.ylabel(\"Subsidy(n)\")\n",
        "    plt.xlabel(\"Round (n)\")\n",
        "    plt.legend()\n",
        "    my_show()\n",
        "    if save_img:\n",
        "        fig.savefig('iucb_subsidy.pdf', dpi=fig.dpi)\n",
        "        colab_save('iucb_subsidy.pdf')\n",
        "    plt.clf()\n",
        "\n",
        "    fig = plt.figure(figsize=Figsize)\n",
        "    avg_subsidy_iucb = np.mean(all_subsidy_iucb, axis=0)\n",
        "    std_subsidy_iucb = np.std(all_subsidy_iucb, axis=0)\n",
        "    lower_quantile_subsidy_iucb = np.quantile(all_subsidy_iucb, 0.05, axis=0)\n",
        "    upper_quantile_subsidy_iucb = np.quantile(all_subsidy_iucb, 0.95, axis=0)\n",
        "    plt.plot(range(N), avg_subsidy_iucb, label = \"Hybrid\", color = COLOR_HYBRID, linestyle = LINESTYLE_HYBRID)\n",
        "    plt.errorbar([N-1], avg_subsidy_iucb[-1], yerr=2*std_subsidy_iucb[-1]/np.sqrt(R), fmt='o', capsize = Capsize, color = COLOR_HYBRID) #2 sigma\n",
        "    plt.fill_between(range(N), lower_quantile_subsidy_iucb, upper_quantile_subsidy_iucb, alpha=Alpha, color = COLOR_HYBRID)\n",
        "\n",
        "    avg_subsidycs_ucb = np.mean(all_subsidycs_ucb, axis=0)\n",
        "    std_subsidycs_ucb = np.std(all_subsidycs_ucb, axis=0)\n",
        "    lower_quantile_subsidycs_ucb = np.quantile(all_subsidycs_ucb, 0.05, axis=0)\n",
        "    upper_quantile_subsidycs_ucb = np.quantile(all_subsidycs_ucb, 0.95, axis=0)\n",
        "    plt.plot(range(N), avg_subsidycs_ucb, label = \"CS-UCB\", color = COLOR_CS_UCB, linestyle = LINESTYLE_CS_UCB)\n",
        "    plt.errorbar([N-1], avg_subsidycs_ucb[-1], yerr=2*std_subsidycs_ucb[-1]/np.sqrt(R), fmt='o', capsize = Capsize, color = COLOR_CS_UCB) #2 sigma\n",
        "    plt.fill_between(range(N), lower_quantile_subsidycs_ucb, upper_quantile_subsidycs_ucb, alpha=Alpha, color = COLOR_CS_UCB)\n",
        "\n",
        "    avg_subsidycs_iucb = np.mean(all_subsidycs_iucb, axis=0)\n",
        "    std_subsidycs_iucb = np.std(all_subsidycs_iucb, axis=0)\n",
        "    lower_quantile_subsidycs_iucb = np.quantile(all_subsidycs_iucb, 0.05, axis=0)\n",
        "    upper_quantile_subsidycs_iucb = np.quantile(all_subsidycs_iucb, 0.95, axis=0)\n",
        "    plt.plot(range(N), avg_subsidycs_iucb, label = \"CS-Hybrid\", color = COLOR_CS_HYBRID, linestyle = LINESTYLE_CS_HYBRID)\n",
        "    plt.errorbar([N-1], avg_subsidycs_iucb[-1], yerr=2*std_subsidycs_iucb[-1]/np.sqrt(R), fmt='o', capsize = Capsize, color = COLOR_CS_HYBRID) #2 sigma\n",
        "    plt.fill_between(range(N), lower_quantile_subsidycs_iucb, upper_quantile_subsidycs_iucb, alpha=Alpha, color = COLOR_CS_HYBRID)\n",
        "\n",
        "    plt.ylabel(\"Subsidy(n)\")\n",
        "    plt.xlabel(\"Round (n)\")\n",
        "    plt.legend()\n",
        "    my_show()\n",
        "    if save_img:\n",
        "        fig.savefig('iucb_subsidy_cs.pdf', dpi=fig.dpi)\n",
        "        colab_save('iucb_subsidy_cs.pdf')\n",
        "    plt.clf()\n",
        "\n",
        "experiment2d()"
      ],
      "execution_count": null,
      "outputs": [
        {
          "output_type": "display_data",
          "data": {
            "image/png": "[encoded data removed]",
            "text/plain": [
              "<Figure size 432x288 with 1 Axes>"
            ]
          },
          "metadata": {
            "tags": [],
            "needs_background": "light"
          }
        },
        {
          "output_type": "display_data",
          "data": {
            "application/javascript": [
              "\n",
              "    async function download(id, filename, size) {\n",
              "      if (!google.colab.kernel.accessAllowed) {\n",
              "        return;\n",
              "      }\n",
              "      const div = document.createElement('div');\n",
              "      const label = document.createElement('label');\n",
              "      label.textContent = `Downloading \"${filename}\": `;\n",
              "      div.appendChild(label);\n",
              "      const progress = document.createElement('progress');\n",
              "      progress.max = size;\n",
              "      div.appendChild(progress);\n",
              "      document.body.appendChild(div);\n",
              "\n",
              "      const buffers = [];\n",
              "      let downloaded = 0;\n",
              "\n",
              "      const channel = await google.colab.kernel.comms.open(id);\n",
              "      // Send a message to notify the kernel that we're ready.\n",
              "      channel.send({})\n",
              "\n",
              "      for await (const message of channel.messages) {\n",
              "        // Send a message to notify the kernel that we're ready.\n",
              "        channel.send({})\n",
              "        if (message.buffers) {\n",
              "          for (const buffer of message.buffers) {\n",
              "            buffers.push(buffer);\n",
              "            downloaded += buffer.byteLength;\n",
              "            progress.value = downloaded;\n",
              "          }\n",
              "        }\n",
              "      }\n",
              "      const blob = new Blob(buffers, {type: 'application/binary'});\n",
              "      const a = document.createElement('a');\n",
              "      a.href = window.URL.createObjectURL(blob);\n",
              "      a.download = filename;\n",
              "      div.appendChild(a);\n",
              "      a.click();\n",
              "      div.remove();\n",
              "    }\n",
              "  "
            ],
            "text/plain": [
              "<IPython.core.display.Javascript object>"
            ]
          },
          "metadata": {
            "tags": []
          }
        },
        {
          "output_type": "display_data",
          "data": {
            "application/javascript": [
              "download(\"download_c94aa7ed-86d2-49a3-8793-aecb0ec1e812\", \"iucb_regret.pdf\", 20750)"
            ],
            "text/plain": [
              "<IPython.core.display.Javascript object>"
            ]
          },
          "metadata": {
            "tags": []
          }
        },
        {
          "output_type": "display_data",
          "data": {
            "text/plain": [
              "<Figure size 432x288 with 0 Axes>"
            ]
          },
          "metadata": {
            "tags": []
          }
        },
        {
          "output_type": "display_data",
          "data": {
            "image/png": "[encoded data removed]",
            "text/plain": [
              "<Figure size 432x288 with 1 Axes>"
            ]
          },
          "metadata": {
            "tags": [],
            "needs_background": "light"
          }
        },
        {
          "output_type": "display_data",
          "data": {
            "application/javascript": [
              "\n",
              "    async function download(id, filename, size) {\n",
              "      if (!google.colab.kernel.accessAllowed) {\n",
              "        return;\n",
              "      }\n",
              "      const div = document.createElement('div');\n",
              "      const label = document.createElement('label');\n",
              "      label.textContent = `Downloading \"${filename}\": `;\n",
              "      div.appendChild(label);\n",
              "      const progress = document.createElement('progress');\n",
              "      progress.max = size;\n",
              "      div.appendChild(progress);\n",
              "      document.body.appendChild(div);\n",
              "\n",
              "      const buffers = [];\n",
              "      let downloaded = 0;\n",
              "\n",
              "      const channel = await google.colab.kernel.comms.open(id);\n",
              "      // Send a message to notify the kernel that we're ready.\n",
              "      channel.send({})\n",
              "\n",
              "      for await (const message of channel.messages) {\n",
              "        // Send a message to notify the kernel that we're ready.\n",
              "        channel.send({})\n",
              "        if (message.buffers) {\n",
              "          for (const buffer of message.buffers) {\n",
              "            buffers.push(buffer);\n",
              "            downloaded += buffer.byteLength;\n",
              "            progress.value = downloaded;\n",
              "          }\n",
              "        }\n",
              "      }\n",
              "      const blob = new Blob(buffers, {type: 'application/binary'});\n",
              "      const a = document.createElement('a');\n",
              "      a.href = window.URL.createObjectURL(blob);\n",
              "      a.download = filename;\n",
              "      div.appendChild(a);\n",
              "      a.click();\n",
              "      div.remove();\n",
              "    }\n",
              "  "
            ],
            "text/plain": [
              "<IPython.core.display.Javascript object>"
            ]
          },
          "metadata": {
            "tags": []
          }
        },
        {
          "output_type": "display_data",
          "data": {
            "application/javascript": [
              "download(\"download_8fe74763-124e-4785-a866-dda8e568d529\", \"iucb_draw2.pdf\", 25357)"
            ],
            "text/plain": [
              "<IPython.core.display.Javascript object>"
            ]
          },
          "metadata": {
            "tags": []
          }
        },
        {
          "output_type": "display_data",
          "data": {
            "text/plain": [
              "<Figure size 432x288 with 0 Axes>"
            ]
          },
          "metadata": {
            "tags": []
          }
        },
        {
          "output_type": "display_data",
          "data": {
            "image/png": "[encoded data removed]",
            "text/plain": [
              "<Figure size 432x288 with 1 Axes>"
            ]
          },
          "metadata": {
            "tags": [],
            "needs_background": "light"
          }
        },
        {
          "output_type": "display_data",
          "data": {
            "application/javascript": [
              "\n",
              "    async function download(id, filename, size) {\n",
              "      if (!google.colab.kernel.accessAllowed) {\n",
              "        return;\n",
              "      }\n",
              "      const div = document.createElement('div');\n",
              "      const label = document.createElement('label');\n",
              "      label.textContent = `Downloading \"${filename}\": `;\n",
              "      div.appendChild(label);\n",
              "      const progress = document.createElement('progress');\n",
              "      progress.max = size;\n",
              "      div.appendChild(progress);\n",
              "      document.body.appendChild(div);\n",
              "\n",
              "      const buffers = [];\n",
              "      let downloaded = 0;\n",
              "\n",
              "      const channel = await google.colab.kernel.comms.open(id);\n",
              "      // Send a message to notify the kernel that we're ready.\n",
              "      channel.send({})\n",
              "\n",
              "      for await (const message of channel.messages) {\n",
              "        // Send a message to notify the kernel that we're ready.\n",
              "        channel.send({})\n",
              "        if (message.buffers) {\n",
              "          for (const buffer of message.buffers) {\n",
              "            buffers.push(buffer);\n",
              "            downloaded += buffer.byteLength;\n",
              "            progress.value = downloaded;\n",
              "          }\n",
              "        }\n",
              "      }\n",
              "      const blob = new Blob(buffers, {type: 'application/binary'});\n",
              "      const a = document.createElement('a');\n",
              "      a.href = window.URL.createObjectURL(blob);\n",
              "      a.download = filename;\n",
              "      div.appendChild(a);\n",
              "      a.click();\n",
              "      div.remove();\n",
              "    }\n",
              "  "
            ],
            "text/plain": [
              "<IPython.core.display.Javascript object>"
            ]
          },
          "metadata": {
            "tags": []
          }
        },
        {
          "output_type": "display_data",
          "data": {
            "application/javascript": [
              "download(\"download_c9808d31-b4d7-4951-a6ca-df61ee314a1c\", \"iucb_subsidy.pdf\", 20952)"
            ],
            "text/plain": [
              "<IPython.core.display.Javascript object>"
            ]
          },
          "metadata": {
            "tags": []
          }
        },
        {
          "output_type": "display_data",
          "data": {
            "text/plain": [
              "<Figure size 432x288 with 0 Axes>"
            ]
          },
          "metadata": {
            "tags": []
          }
        },
        {
          "output_type": "display_data",
          "data": {
            "image/png": "[encoded data removed]",
            "text/plain": [
              "<Figure size 432x288 with 1 Axes>"
            ]
          },
          "metadata": {
            "tags": [],
            "needs_background": "light"
          }
        },
        {
          "output_type": "display_data",
          "data": {
            "application/javascript": [
              "\n",
              "    async function download(id, filename, size) {\n",
              "      if (!google.colab.kernel.accessAllowed) {\n",
              "        return;\n",
              "      }\n",
              "      const div = document.createElement('div');\n",
              "      const label = document.createElement('label');\n",
              "      label.textContent = `Downloading \"${filename}\": `;\n",
              "      div.appendChild(label);\n",
              "      const progress = document.createElement('progress');\n",
              "      progress.max = size;\n",
              "      div.appendChild(progress);\n",
              "      document.body.appendChild(div);\n",
              "\n",
              "      const buffers = [];\n",
              "      let downloaded = 0;\n",
              "\n",
              "      const channel = await google.colab.kernel.comms.open(id);\n",
              "      // Send a message to notify the kernel that we're ready.\n",
              "      channel.send({})\n",
              "\n",
              "      for await (const message of channel.messages) {\n",
              "        // Send a message to notify the kernel that we're ready.\n",
              "        channel.send({})\n",
              "        if (message.buffers) {\n",
              "          for (const buffer of message.buffers) {\n",
              "            buffers.push(buffer);\n",
              "            downloaded += buffer.byteLength;\n",
              "            progress.value = downloaded;\n",
              "          }\n",
              "        }\n",
              "      }\n",
              "      const blob = new Blob(buffers, {type: 'application/binary'});\n",
              "      const a = document.createElement('a');\n",
              "      a.href = window.URL.createObjectURL(blob);\n",
              "      a.download = filename;\n",
              "      div.appendChild(a);\n",
              "      a.click();\n",
              "      div.remove();\n",
              "    }\n",
              "  "
            ],
            "text/plain": [
              "<IPython.core.display.Javascript object>"
            ]
          },
          "metadata": {
            "tags": []
          }
        },
        {
          "output_type": "display_data",
          "data": {
            "application/javascript": [
              "download(\"download_b66ee80b-8470-45ae-9c3f-1cc35f48e8d2\", \"iucb_subsidy_cs.pdf\", 22390)"
            ],
            "text/plain": [
              "<IPython.core.display.Javascript object>"
            ]
          },
          "metadata": {
            "tags": []
          }
        },
        {
          "output_type": "display_data",
          "data": {
            "text/plain": [
              "<Figure size 432x288 with 0 Axes>"
            ]
          },
          "metadata": {
            "tags": []
          }
        }
      ]
    },
    {
      "cell_type": "code",
      "metadata": {
        "id": "ZnYgY7e5NXxK",
        "outputId": "a3796a1d-861f-4a09-c451-f0d045344afd",
        "colab": {
          "base_uri": "https://localhost:8080/",
          "height": 331
        }
      },
      "source": [
        "# Warm-start size (not used)\n",
        "def experiment4():\n",
        "    Kg = (10, 2)\n",
        "    N0_list = [10, 20, 50, 100]\n",
        "    pu_count = np.zeros(len(N0_list))\n",
        "    for k,N0 in enumerate(N0_list):\n",
        "        sims = [Simulation(Kg = Kg, N0 = N0, policy = \"greedy\") for r in range(R)]\n",
        "        sims = Parallel(n_jobs=-1)( [delayed(run_sim)(sims[r]) for r in range(R)] ) #parallel computation\n",
        "        for r in range(R):\n",
        "#            sims[r].run()\n",
        "            if sims[r].is_perpetunderest():\n",
        "                pu_count[k] += 1\n",
        "    labels = [N0 for N0 in N0_list]\n",
        "    fig = plt.figure(figsize=Figsize)\n",
        "    confs = [stats.binom.interval(0.95, n=R, p=min(max(0.0001,c/R),0.9999)) for i,c in enumerate(pu_count)]\n",
        "    print(f\"confs = {confs}\")\n",
        "    pu_count_intervals = ([pu_count[i]-conf[0] for i,conf in enumerate(confs)],  [conf[1]-pu_count[i] for i,conf in enumerate(confs)])\n",
        "    plt.bar(range(len(N0_list)), pu_count, yerr = pu_count_intervals, tick_label=labels, align=\"center\", capsize = Capsize)\n",
        "    plt.ylabel(\"# of PU\")\n",
        "    plt.xlabel(\"N0\")\n",
        "    #plt.legend()\n",
        "    my_show()\n",
        "    if save_img:\n",
        "        fig.savefig('wssize_pu.pdf', dpi=fig.dpi)\n",
        "        colab_save('wssize_pu.pdf')\n",
        "    plt.clf()\n",
        "\n",
        "experiment4()"
      ],
      "execution_count": null,
      "outputs": [
        {
          "output_type": "stream",
          "text": [
            "confs = [(0.0, 5.0), (0.0, 3.0), (0.0, 0.0), (0.0, 0.0)]\n"
          ],
          "name": "stdout"
        },
        {
          "output_type": "display_data",
          "data": {
            "image/png": "[encoded data removed]",
            "text/plain": [
              "<Figure size 432x288 with 1 Axes>"
            ]
          },
          "metadata": {
            "tags": [],
            "needs_background": "light"
          }
        },
        {
          "output_type": "display_data",
          "data": {
            "application/javascript": [
              "\n",
              "    async function download(id, filename, size) {\n",
              "      if (!google.colab.kernel.accessAllowed) {\n",
              "        return;\n",
              "      }\n",
              "      const div = document.createElement('div');\n",
              "      const label = document.createElement('label');\n",
              "      label.textContent = `Downloading \"${filename}\": `;\n",
              "      div.appendChild(label);\n",
              "      const progress = document.createElement('progress');\n",
              "      progress.max = size;\n",
              "      div.appendChild(progress);\n",
              "      document.body.appendChild(div);\n",
              "\n",
              "      const buffers = [];\n",
              "      let downloaded = 0;\n",
              "\n",
              "      const channel = await google.colab.kernel.comms.open(id);\n",
              "      // Send a message to notify the kernel that we're ready.\n",
              "      channel.send({})\n",
              "\n",
              "      for await (const message of channel.messages) {\n",
              "        // Send a message to notify the kernel that we're ready.\n",
              "        channel.send({})\n",
              "        if (message.buffers) {\n",
              "          for (const buffer of message.buffers) {\n",
              "            buffers.push(buffer);\n",
              "            downloaded += buffer.byteLength;\n",
              "            progress.value = downloaded;\n",
              "          }\n",
              "        }\n",
              "      }\n",
              "      const blob = new Blob(buffers, {type: 'application/binary'});\n",
              "      const a = document.createElement('a');\n",
              "      a.href = window.URL.createObjectURL(blob);\n",
              "      a.download = filename;\n",
              "      div.appendChild(a);\n",
              "      a.click();\n",
              "      div.remove();\n",
              "    }\n",
              "  "
            ],
            "text/plain": [
              "<IPython.core.display.Javascript object>"
            ]
          },
          "metadata": {
            "tags": []
          }
        },
        {
          "output_type": "display_data",
          "data": {
            "application/javascript": [
              "download(\"download_fe238553-bb09-450f-8d52-2a8a5ed162db\", \"wssize_pu.pdf\", 7170)"
            ],
            "text/plain": [
              "<IPython.core.display.Javascript object>"
            ]
          },
          "metadata": {
            "tags": []
          }
        },
        {
          "output_type": "display_data",
          "data": {
            "text/plain": [
              "<Figure size 432x288 with 0 Axes>"
            ]
          },
          "metadata": {
            "tags": []
          }
        }
      ]
    },
    {
      "cell_type": "code",
      "metadata": {
        "id": "botltltMlUV7",
        "outputId": "f78f4bdb-d979-4bc6-c5bc-d9a3412f6f8f",
        "colab": {
          "base_uri": "https://localhost:8080/",
          "height": 652
        }
      },
      "source": [
        "# Not used (assymetric model)\n",
        "def experiment5():\n",
        "    theta_diffs = [0, 0.1, 0.2, 0.3, 0.4]\n",
        "    pu_count = np.zeros(len(theta_diffs))\n",
        "    for i,theta_diff in enumerate(theta_diffs):\n",
        "        k_list = (10, 2)\n",
        "        sims = [Simulation(Kg = k_list, N0 = np.sum(k_list)*1, theta_pars = [1,1-theta_diff], policy = \"greedy\") for r in range(R)]\n",
        "        sims = Parallel(n_jobs=-1)( [delayed(run_sim)(sims[r]) for r in range(R)] ) #parallel computation\n",
        "        print(f\"k_list = {k_list}\")\n",
        "        for r in range(R):\n",
        "#            sims[r].run()\n",
        "            if sims[r].is_perpetunderest():\n",
        "                print(f\"PU occurred with i={i}, r={r}\")\n",
        "                pu_count[i] += 1\n",
        "    print(f\"pu_count = {pu_count}\")\n",
        "    labels = [theta_diff for theta_diff in theta_diffs]\n",
        "    fig = plt.figure(figsize=Figsize)\n",
        "    confs = [stats.binom.interval(0.95, n=R, p=min(max(0.0001,c/R),0.9999)) for i,c in enumerate(pu_count)]\n",
        "    print(f\"confs = {confs}\")\n",
        "    pu_count_intervals = ([pu_count[i]-conf[0] for i,conf in enumerate(confs)],  [conf[1]-pu_count[i] for i,conf in enumerate(confs)])\n",
        "    plt.bar(range(len(theta_diffs)), pu_count, yerr = pu_count_intervals, tick_label=labels, align=\"center\", capsize = Capsize)\n",
        "    plt.ylabel(\"# of PU\")\n",
        "    plt.xlabel(\"$\\theta_1$ - $\\theta_2$\")\n",
        "    #plt.legend()\n",
        "    my_show()\n",
        "    if save_img:\n",
        "        fig.savefig('thetadiff_pu.pdf', dpi=fig.dpi)\n",
        "        colab_save('thetadiff_pu.pdf')\n",
        "    plt.clf()\n",
        "\n",
        "experiment5()"
      ],
      "execution_count": null,
      "outputs": [
        {
          "output_type": "stream",
          "text": [
            "k_list = (10, 2)\n",
            "PU occurred with i=0, r=2\n",
            "PU occurred with i=0, r=3\n",
            "k_list = (10, 2)\n",
            "k_list = (10, 2)\n",
            "PU occurred with i=2, r=0\n",
            "PU occurred with i=2, r=1\n",
            "PU occurred with i=2, r=5\n",
            "k_list = (10, 2)\n",
            "PU occurred with i=3, r=1\n",
            "PU occurred with i=3, r=2\n",
            "PU occurred with i=3, r=5\n",
            "PU occurred with i=3, r=7\n",
            "k_list = (10, 2)\n",
            "PU occurred with i=4, r=1\n",
            "PU occurred with i=4, r=5\n",
            "PU occurred with i=4, r=6\n",
            "pu_count = [2. 0. 3. 4. 3.]\n",
            "confs = [(0.0, 5.0), (0.0, 0.0), (0.0, 6.0), (1.0, 7.0), (0.0, 6.0)]\n"
          ],
          "name": "stdout"
        },
        {
          "output_type": "display_data",
          "data": {
            "image/png": "[encoded data removed]",
            "text/plain": [
              "<Figure size 432x288 with 1 Axes>"
            ]
          },
          "metadata": {
            "tags": [],
            "needs_background": "light"
          }
        },
        {
          "output_type": "display_data",
          "data": {
            "application/javascript": [
              "\n",
              "    async function download(id, filename, size) {\n",
              "      if (!google.colab.kernel.accessAllowed) {\n",
              "        return;\n",
              "      }\n",
              "      const div = document.createElement('div');\n",
              "      const label = document.createElement('label');\n",
              "      label.textContent = `Downloading \"${filename}\": `;\n",
              "      div.appendChild(label);\n",
              "      const progress = document.createElement('progress');\n",
              "      progress.max = size;\n",
              "      div.appendChild(progress);\n",
              "      document.body.appendChild(div);\n",
              "\n",
              "      const buffers = [];\n",
              "      let downloaded = 0;\n",
              "\n",
              "      const channel = await google.colab.kernel.comms.open(id);\n",
              "      // Send a message to notify the kernel that we're ready.\n",
              "      channel.send({})\n",
              "\n",
              "      for await (const message of channel.messages) {\n",
              "        // Send a message to notify the kernel that we're ready.\n",
              "        channel.send({})\n",
              "        if (message.buffers) {\n",
              "          for (const buffer of message.buffers) {\n",
              "            buffers.push(buffer);\n",
              "            downloaded += buffer.byteLength;\n",
              "            progress.value = downloaded;\n",
              "          }\n",
              "        }\n",
              "      }\n",
              "      const blob = new Blob(buffers, {type: 'application/binary'});\n",
              "      const a = document.createElement('a');\n",
              "      a.href = window.URL.createObjectURL(blob);\n",
              "      a.download = filename;\n",
              "      div.appendChild(a);\n",
              "      a.click();\n",
              "      div.remove();\n",
              "    }\n",
              "  "
            ],
            "text/plain": [
              "<IPython.core.display.Javascript object>"
            ]
          },
          "metadata": {
            "tags": []
          }
        },
        {
          "output_type": "display_data",
          "data": {
            "application/javascript": [
              "download(\"download_4e966143-73bc-4089-98d2-dd06189c79d2\", \"thetadiff_pu.pdf\", 11350)"
            ],
            "text/plain": [
              "<IPython.core.display.Javascript object>"
            ]
          },
          "metadata": {
            "tags": []
          }
        },
        {
          "output_type": "display_data",
          "data": {
            "text/plain": [
              "<Figure size 432x288 with 0 Axes>"
            ]
          },
          "metadata": {
            "tags": []
          }
        }
      ]
    },
    {
      "cell_type": "code",
      "metadata": {
        "id": "j7ooFAm-iKmW",
        "outputId": "3d92da98-c356-4466-84fa-b3de71f1d0e5",
        "colab": {
          "base_uri": "https://localhost:8080/",
          "height": 1000
        }
      },
      "source": [
        "# version of experiment 2 with N=10000\n",
        "def experiment2dlong():\n",
        "    global N, R\n",
        "    Kg = (10, 2)\n",
        "    if run_full or (not is_colab()): # outside colab\n",
        "        N = 10000\n",
        "        R = 50\n",
        "    else:\n",
        "        N = 5000\n",
        "        R = 5\n",
        "\n",
        "    sims_ucb = [Simulation(Kg = Kg, N0 = np.sum(Kg)*1, N=N, policy = \"ucb\") for r in range(R)]\n",
        "    print(f\"test sims_ucb[0].regret_seq.shape = {sims_ucb[0].regret_seq.shape}\")\n",
        "    sims_ucb = Parallel(n_jobs=-1)( [delayed(run_sim)(sims_ucb[r]) for r in range(R)] ) #parallel computation\n",
        "    sims_iucb = [Simulation(Kg = Kg, N0 = np.sum(Kg)*1, N=N, policy = \"improved_ucb\") for r in range(R)]\n",
        "    sims_iucb = Parallel(n_jobs=-1)( [delayed(run_sim)(sims_iucb[r]) for r in range(R)] ) #parallel computation\n",
        "#    for r in range(R):\n",
        "#        sims_ucb[r].run()\n",
        "#        print(f\"UCB Run {r}: Perpetually underestimated {sims_ucb[r].is_perpetunderest()}\")\n",
        "#    for r in range(R):\n",
        "#        sims_iucb[r].run()\n",
        "#        print(f\"iUCB Run {r}: Perpetually underestimated {sims_ucb[r].is_perpetunderest()}\")\n",
        "    all_regret_ucb = np.zeros( (R,N) )\n",
        "    all_draw2_ucb = np.zeros( (R,N) )\n",
        "    all_subsidy_ucb = np.zeros( (R,N) )\n",
        "    all_subsidycs_ucb = np.zeros( (R,N) )\n",
        "    all_regret_iucb = np.zeros( (R,N) )\n",
        "    all_draw2_iucb = np.zeros( (R,N) )\n",
        "    all_subsidy_iucb = np.zeros( (R,N) )\n",
        "    all_subsidycs_iucb = np.zeros( (R,N) )\n",
        "    for r in range(R):\n",
        "        print(f\"sims_ucb[r].regret_seq.shape = {sims_ucb[r].regret_seq.shape}\")\n",
        "        all_regret_ucb[r] += sims_ucb[r].regret_seq\n",
        "        all_draw2_ucb[r] += sims_ucb[r].draws_seq[:,1]\n",
        "        all_subsidy_ucb[r] += sims_ucb[r].subsidy_seq\n",
        "        all_subsidycs_ucb[r] += sims_ucb[r].subsidycs_seq\n",
        "        all_regret_iucb[r] += sims_iucb[r].regret_seq\n",
        "        all_draw2_iucb[r] += sims_iucb[r].draws_seq[:,1]\n",
        "        all_subsidy_iucb[r] += sims_iucb[r].subsidy_seq\n",
        "        all_subsidycs_iucb[r] += sims_iucb[r].subsidycs_seq\n",
        "\n",
        "    fig = plt.figure(figsize=Figsize)\n",
        "    avg_regret_ucb = np.mean(all_regret_ucb, axis=0)\n",
        "    std_regret_ucb = np.std(all_regret_ucb, axis=0)\n",
        "    lower_quantile_regret_ucb = np.quantile(all_regret_ucb, 0.05, axis=0)\n",
        "    upper_quantile_regret_ucb = np.quantile(all_regret_ucb, 0.95, axis=0)\n",
        "    plt.plot(range(N), avg_regret_ucb, label = \"UCB\", color = COLOR_UCB, linestyle = LINESTYLE_UCB)\n",
        "    plt.errorbar([N-1], avg_regret_ucb[-1], yerr=2*std_regret_ucb[-1]/np.sqrt(R), fmt='o', capsize = Capsize, color = COLOR_UCB) #2 sigma\n",
        "    plt.fill_between(range(N), lower_quantile_regret_ucb, upper_quantile_regret_ucb, alpha=Alpha, color = COLOR_UCB)\n",
        "\n",
        "    avg_regret_iucb = np.mean(all_regret_iucb, axis=0)\n",
        "    std_regret_iucb = np.std(all_regret_iucb, axis=0)\n",
        "    lower_quantile_regret_iucb = np.quantile(all_regret_iucb, 0.05, axis=0)\n",
        "    upper_quantile_regret_iucb = np.quantile(all_regret_iucb, 0.95, axis=0)\n",
        "    plt.plot(range(N), avg_regret_iucb, label = \"Hybrid\", color = COLOR_HYBRID, linestyle = LINESTYLE_HYBRID)\n",
        "    plt.errorbar([N-1], avg_regret_iucb[-1], yerr=2*std_regret_iucb[-1]/np.sqrt(R), fmt='o', capsize = Capsize, color = COLOR_HYBRID) #2 sigma\n",
        "    plt.fill_between(range(N), lower_quantile_regret_iucb, upper_quantile_regret_iucb, alpha=Alpha, color = COLOR_HYBRID)\n",
        "    plt.ylabel(\"Regret\")\n",
        "    plt.xlabel(\"Round (n)\")\n",
        "    plt.legend()\n",
        "    my_show()\n",
        "    if save_img:\n",
        "        fig.savefig('iucb_regret_long.pdf', dpi=fig.dpi)\n",
        "        colab_save('iucb_regret_long.pdf')\n",
        "    plt.clf()\n",
        "\n",
        "    fig = plt.figure(figsize=Figsize)\n",
        "    avg_draw2_ucb = np.mean(all_draw2_ucb, axis=0)\n",
        "    std_draw2_ucb = np.std(all_draw2_ucb, axis=0)\n",
        "    lower_quantile_draw2_ucb = np.quantile(all_draw2_ucb, 0.05, axis=0)\n",
        "    upper_quantile_draw2_ucb = np.quantile(all_draw2_ucb, 0.95, axis=0)\n",
        "    plt.plot(range(N), avg_draw2_ucb, label = \"UCB\", color = COLOR_UCB, linestyle = LINESTYLE_UCB)\n",
        "    plt.errorbar([N-1], avg_draw2_ucb[-1], yerr=2*std_draw2_ucb[-1]/np.sqrt(R), fmt='o', capsize = Capsize, color = COLOR_UCB) #2 sigma\n",
        "    plt.fill_between(range(N), lower_quantile_draw2_ucb, upper_quantile_draw2_ucb, alpha=Alpha, color = COLOR_UCB)\n",
        "\n",
        "    avg_draw2_iucb = np.mean(all_draw2_iucb, axis=0)\n",
        "    std_draw2_iucb = np.std(all_draw2_iucb, axis=0)\n",
        "    lower_quantile_draw2_iucb = np.quantile(all_draw2_iucb, 0.05, axis=0)\n",
        "    upper_quantile_draw2_iucb = np.quantile(all_draw2_iucb, 0.95, axis=0)\n",
        "    plt.plot(range(N), avg_draw2_iucb, label = \"Hybrid\", color = COLOR_HYBRID, linestyle = LINESTYLE_HYBRID)\n",
        "    plt.errorbar([N-1], avg_draw2_iucb[-1], yerr=2*std_draw2_iucb[-1]/np.sqrt(R), fmt='o', capsize = Capsize, color = COLOR_HYBRID) #2 sigma\n",
        "    plt.fill_between(range(N), lower_quantile_draw2_iucb, upper_quantile_draw2_iucb, alpha=Alpha, color = COLOR_HYBRID)\n",
        "    plt.plot(range(N), [i*Kg[1]/np.sum(Kg) for i in range(N)], label = \"Optimal\", color = \"black\", linestyle=linestyle_tuple[\"loosely dashed\"])\n",
        "\n",
        "    plt.ylabel(\"# of minorities hired\")\n",
        "    plt.xlabel(\"Round (n)\")\n",
        "    plt.legend()\n",
        "    my_show()\n",
        "    if save_img:\n",
        "        fig.savefig('iucb_draw2_long.pdf', dpi=fig.dpi)\n",
        "        colab_save('iucb_draw2_long.pdf')\n",
        "    plt.clf()\n",
        "\n",
        "    fig = plt.figure(figsize=Figsize)\n",
        "    avg_subsidy_ucb = np.mean(all_subsidy_ucb, axis=0)\n",
        "    std_subsidy_ucb = np.std(all_subsidy_ucb, axis=0)\n",
        "    lower_quantile_subsidy_ucb = np.quantile(all_subsidy_ucb, 0.05, axis=0)\n",
        "    upper_quantile_subsidy_ucb = np.quantile(all_subsidy_ucb, 0.95, axis=0)\n",
        "    plt.plot(range(N), avg_subsidy_ucb, label = \"UCB\", color=COLOR_UCB, linestyle = LINESTYLE_UCB)\n",
        "    plt.errorbar([N-1], avg_subsidy_ucb[-1], yerr=2*std_subsidy_ucb[-1]/np.sqrt(R), fmt='o', capsize = Capsize, color = COLOR_UCB) #2 sigma\n",
        "    plt.fill_between(range(N), lower_quantile_subsidy_ucb, upper_quantile_subsidy_ucb, alpha=Alpha, color = COLOR_UCB)\n",
        "\n",
        "    avg_subsidy_iucb = np.mean(all_subsidy_iucb, axis=0)\n",
        "    std_subsidy_iucb = np.std(all_subsidy_iucb, axis=0)\n",
        "    lower_quantile_subsidy_iucb = np.quantile(all_subsidy_iucb, 0.05, axis=0)\n",
        "    upper_quantile_subsidy_iucb = np.quantile(all_subsidy_iucb, 0.95, axis=0)\n",
        "    plt.plot(range(N), avg_subsidy_iucb, label = \"Hybrid\", color = COLOR_HYBRID, linestyle = LINESTYLE_HYBRID)\n",
        "    plt.errorbar([N-1], avg_subsidy_iucb[-1], yerr=2*std_subsidy_iucb[-1]/np.sqrt(R), fmt='o', capsize = Capsize, color = COLOR_HYBRID) #2 sigma\n",
        "    plt.fill_between(range(N), lower_quantile_subsidy_iucb, upper_quantile_subsidy_iucb, alpha=Alpha, color = COLOR_HYBRID)\n",
        "\n",
        "    plt.ylabel(\"Subsidy(n)\")\n",
        "    plt.xlabel(\"Round (n)\")\n",
        "    plt.legend()\n",
        "    my_show()\n",
        "    if save_img:\n",
        "        fig.savefig('iucb_subsidy_long.pdf', dpi=fig.dpi)\n",
        "        colab_save('iucb_subsidy_long.pdf')\n",
        "    plt.clf()\n",
        "\n",
        "    fig = plt.figure(figsize=Figsize)\n",
        "    avg_subsidy_iucb = np.mean(all_subsidy_iucb, axis=0)\n",
        "    std_subsidy_iucb = np.std(all_subsidy_iucb, axis=0)\n",
        "    lower_quantile_subsidy_iucb = np.quantile(all_subsidy_iucb, 0.05, axis=0)\n",
        "    upper_quantile_subsidy_iucb = np.quantile(all_subsidy_iucb, 0.95, axis=0)\n",
        "    plt.plot(range(N), avg_subsidy_iucb, label = \"Hybrid\", color = COLOR_HYBRID, linestyle = LINESTYLE_HYBRID)\n",
        "    plt.errorbar([N-1], avg_subsidy_iucb[-1], yerr=2*std_subsidy_iucb[-1]/np.sqrt(R), fmt='o', capsize = Capsize, color = COLOR_HYBRID) #2 sigma\n",
        "    plt.fill_between(range(N), lower_quantile_subsidy_iucb, upper_quantile_subsidy_iucb, alpha=Alpha, color = COLOR_HYBRID)\n",
        "\n",
        "    avg_subsidycs_ucb = np.mean(all_subsidycs_ucb, axis=0)\n",
        "    std_subsidycs_ucb = np.std(all_subsidycs_ucb, axis=0)\n",
        "    lower_quantile_subsidycs_ucb = np.quantile(all_subsidycs_ucb, 0.05, axis=0)\n",
        "    upper_quantile_subsidycs_ucb = np.quantile(all_subsidycs_ucb, 0.95, axis=0)\n",
        "    plt.plot(range(N), avg_subsidycs_ucb, label = \"CS-UCB\", color = COLOR_CS_UCB, linestyle = LINESTYLE_CS_UCB)\n",
        "    plt.errorbar([N-1], avg_subsidycs_ucb[-1], yerr=2*std_subsidycs_ucb[-1]/np.sqrt(R), fmt='o', capsize = Capsize, color = COLOR_CS_UCB) #2 sigma\n",
        "    plt.fill_between(range(N), lower_quantile_subsidycs_ucb, upper_quantile_subsidycs_ucb, alpha=Alpha, color = COLOR_CS_UCB)\n",
        "\n",
        "    avg_subsidycs_iucb = np.mean(all_subsidycs_iucb, axis=0)\n",
        "    std_subsidycs_iucb = np.std(all_subsidycs_iucb, axis=0)\n",
        "    lower_quantile_subsidycs_iucb = np.quantile(all_subsidycs_iucb, 0.05, axis=0)\n",
        "    upper_quantile_subsidycs_iucb = np.quantile(all_subsidycs_iucb, 0.95, axis=0)\n",
        "    plt.plot(range(N), avg_subsidycs_iucb, label = \"CS-Hybrid\", color = COLOR_CS_HYBRID, linestyle = LINESTYLE_CS_HYBRID)\n",
        "    plt.errorbar([N-1], avg_subsidycs_iucb[-1], yerr=2*std_subsidycs_iucb[-1]/np.sqrt(R), fmt='o', capsize = Capsize, color = COLOR_CS_HYBRID) #2 sigma\n",
        "    plt.fill_between(range(N), lower_quantile_subsidycs_iucb, upper_quantile_subsidycs_iucb, alpha=Alpha, color = COLOR_CS_HYBRID)\n",
        "\n",
        "    plt.ylabel(\"Subsidy(n)\")\n",
        "    plt.xlabel(\"Round (n)\")\n",
        "    plt.legend()\n",
        "    my_show()\n",
        "    if save_img:\n",
        "        fig.savefig('iucb_subsidy_cs_long.pdf', dpi=fig.dpi)\n",
        "        colab_save('iucb_subsidy_cs_long.pdf')\n",
        "    plt.clf()\n",
        "\n",
        "\n",
        "experiment2dlong()"
      ],
      "execution_count": null,
      "outputs": [
        {
          "output_type": "stream",
          "text": [
            "test sims_ucb[0].regret_seq.shape = (5000,)\n",
            "sims_ucb[r].regret_seq.shape = (5000,)\n",
            "sims_ucb[r].regret_seq.shape = (5000,)\n",
            "sims_ucb[r].regret_seq.shape = (5000,)\n",
            "sims_ucb[r].regret_seq.shape = (5000,)\n",
            "sims_ucb[r].regret_seq.shape = (5000,)\n"
          ],
          "name": "stdout"
        },
        {
          "output_type": "display_data",
          "data": {
            "image/png": "[encoded data removed]",
            "text/plain": [
              "<Figure size 432x288 with 1 Axes>"
            ]
          },
          "metadata": {
            "tags": [],
            "needs_background": "light"
          }
        },
        {
          "output_type": "display_data",
          "data": {
            "application/javascript": [
              "\n",
              "    async function download(id, filename, size) {\n",
              "      if (!google.colab.kernel.accessAllowed) {\n",
              "        return;\n",
              "      }\n",
              "      const div = document.createElement('div');\n",
              "      const label = document.createElement('label');\n",
              "      label.textContent = `Downloading \"${filename}\": `;\n",
              "      div.appendChild(label);\n",
              "      const progress = document.createElement('progress');\n",
              "      progress.max = size;\n",
              "      div.appendChild(progress);\n",
              "      document.body.appendChild(div);\n",
              "\n",
              "      const buffers = [];\n",
              "      let downloaded = 0;\n",
              "\n",
              "      const channel = await google.colab.kernel.comms.open(id);\n",
              "      // Send a message to notify the kernel that we're ready.\n",
              "      channel.send({})\n",
              "\n",
              "      for await (const message of channel.messages) {\n",
              "        // Send a message to notify the kernel that we're ready.\n",
              "        channel.send({})\n",
              "        if (message.buffers) {\n",
              "          for (const buffer of message.buffers) {\n",
              "            buffers.push(buffer);\n",
              "            downloaded += buffer.byteLength;\n",
              "            progress.value = downloaded;\n",
              "          }\n",
              "        }\n",
              "      }\n",
              "      const blob = new Blob(buffers, {type: 'application/binary'});\n",
              "      const a = document.createElement('a');\n",
              "      a.href = window.URL.createObjectURL(blob);\n",
              "      a.download = filename;\n",
              "      div.appendChild(a);\n",
              "      a.click();\n",
              "      div.remove();\n",
              "    }\n",
              "  "
            ],
            "text/plain": [
              "<IPython.core.display.Javascript object>"
            ]
          },
          "metadata": {
            "tags": []
          }
        },
        {
          "output_type": "display_data",
          "data": {
            "application/javascript": [
              "download(\"download_c9e5b361-7e16-4243-8d71-91f1398a86b5\", \"iucb_regret_long.pdf\", 118815)"
            ],
            "text/plain": [
              "<IPython.core.display.Javascript object>"
            ]
          },
          "metadata": {
            "tags": []
          }
        },
        {
          "output_type": "display_data",
          "data": {
            "text/plain": [
              "<Figure size 432x288 with 0 Axes>"
            ]
          },
          "metadata": {
            "tags": []
          }
        },
        {
          "output_type": "display_data",
          "data": {
            "image/png": "[encoded data removed]",
            "text/plain": [
              "<Figure size 432x288 with 1 Axes>"
            ]
          },
          "metadata": {
            "tags": [],
            "needs_background": "light"
          }
        },
        {
          "output_type": "display_data",
          "data": {
            "application/javascript": [
              "\n",
              "    async function download(id, filename, size) {\n",
              "      if (!google.colab.kernel.accessAllowed) {\n",
              "        return;\n",
              "      }\n",
              "      const div = document.createElement('div');\n",
              "      const label = document.createElement('label');\n",
              "      label.textContent = `Downloading \"${filename}\": `;\n",
              "      div.appendChild(label);\n",
              "      const progress = document.createElement('progress');\n",
              "      progress.max = size;\n",
              "      div.appendChild(progress);\n",
              "      document.body.appendChild(div);\n",
              "\n",
              "      const buffers = [];\n",
              "      let downloaded = 0;\n",
              "\n",
              "      const channel = await google.colab.kernel.comms.open(id);\n",
              "      // Send a message to notify the kernel that we're ready.\n",
              "      channel.send({})\n",
              "\n",
              "      for await (const message of channel.messages) {\n",
              "        // Send a message to notify the kernel that we're ready.\n",
              "        channel.send({})\n",
              "        if (message.buffers) {\n",
              "          for (const buffer of message.buffers) {\n",
              "            buffers.push(buffer);\n",
              "            downloaded += buffer.byteLength;\n",
              "            progress.value = downloaded;\n",
              "          }\n",
              "        }\n",
              "      }\n",
              "      const blob = new Blob(buffers, {type: 'application/binary'});\n",
              "      const a = document.createElement('a');\n",
              "      a.href = window.URL.createObjectURL(blob);\n",
              "      a.download = filename;\n",
              "      div.appendChild(a);\n",
              "      a.click();\n",
              "      div.remove();\n",
              "    }\n",
              "  "
            ],
            "text/plain": [
              "<IPython.core.display.Javascript object>"
            ]
          },
          "metadata": {
            "tags": []
          }
        },
        {
          "output_type": "display_data",
          "data": {
            "application/javascript": [
              "download(\"download_6ac1f4b2-0d90-4907-bffd-eaa5ce698e8b\", \"iucb_draw2_long.pdf\", 154884)"
            ],
            "text/plain": [
              "<IPython.core.display.Javascript object>"
            ]
          },
          "metadata": {
            "tags": []
          }
        },
        {
          "output_type": "display_data",
          "data": {
            "text/plain": [
              "<Figure size 432x288 with 0 Axes>"
            ]
          },
          "metadata": {
            "tags": []
          }
        },
        {
          "output_type": "display_data",
          "data": {
            "image/png": "[encoded data removed]",
            "text/plain": [
              "<Figure size 432x288 with 1 Axes>"
            ]
          },
          "metadata": {
            "tags": [],
            "needs_background": "light"
          }
        },
        {
          "output_type": "display_data",
          "data": {
            "application/javascript": [
              "\n",
              "    async function download(id, filename, size) {\n",
              "      if (!google.colab.kernel.accessAllowed) {\n",
              "        return;\n",
              "      }\n",
              "      const div = document.createElement('div');\n",
              "      const label = document.createElement('label');\n",
              "      label.textContent = `Downloading \"${filename}\": `;\n",
              "      div.appendChild(label);\n",
              "      const progress = document.createElement('progress');\n",
              "      progress.max = size;\n",
              "      div.appendChild(progress);\n",
              "      document.body.appendChild(div);\n",
              "\n",
              "      const buffers = [];\n",
              "      let downloaded = 0;\n",
              "\n",
              "      const channel = await google.colab.kernel.comms.open(id);\n",
              "      // Send a message to notify the kernel that we're ready.\n",
              "      channel.send({})\n",
              "\n",
              "      for await (const message of channel.messages) {\n",
              "        // Send a message to notify the kernel that we're ready.\n",
              "        channel.send({})\n",
              "        if (message.buffers) {\n",
              "          for (const buffer of message.buffers) {\n",
              "            buffers.push(buffer);\n",
              "            downloaded += buffer.byteLength;\n",
              "            progress.value = downloaded;\n",
              "          }\n",
              "        }\n",
              "      }\n",
              "      const blob = new Blob(buffers, {type: 'application/binary'});\n",
              "      const a = document.createElement('a');\n",
              "      a.href = window.URL.createObjectURL(blob);\n",
              "      a.download = filename;\n",
              "      div.appendChild(a);\n",
              "      a.click();\n",
              "      div.remove();\n",
              "    }\n",
              "  "
            ],
            "text/plain": [
              "<IPython.core.display.Javascript object>"
            ]
          },
          "metadata": {
            "tags": []
          }
        },
        {
          "output_type": "display_data",
          "data": {
            "application/javascript": [
              "download(\"download_6e623e9c-18c9-45f7-95d3-1d8abd8b92c2\", \"iucb_subsidy_long.pdf\", 157170)"
            ],
            "text/plain": [
              "<IPython.core.display.Javascript object>"
            ]
          },
          "metadata": {
            "tags": []
          }
        },
        {
          "output_type": "display_data",
          "data": {
            "text/plain": [
              "<Figure size 432x288 with 0 Axes>"
            ]
          },
          "metadata": {
            "tags": []
          }
        },
        {
          "output_type": "display_data",
          "data": {
            "image/png": "[encoded data removed]",
            "text/plain": [
              "<Figure size 432x288 with 1 Axes>"
            ]
          },
          "metadata": {
            "tags": [],
            "needs_background": "light"
          }
        }
      ]
    }
  ]
}